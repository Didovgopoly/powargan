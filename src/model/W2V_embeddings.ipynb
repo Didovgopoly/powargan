{
 "cells": [
  {
   "cell_type": "code",
   "execution_count": 1,
   "metadata": {},
   "outputs": [],
   "source": [
    "import  gensim\n",
    "import gensim.downloader as api\n",
    "import pandas as pd\n",
    "\n",
    "from gensim.models import Word2Vec\n",
    "from nltk.tokenize import RegexpTokenizer\n",
    "import tqdm"
   ]
  },
  {
   "cell_type": "code",
   "execution_count": 2,
   "metadata": {},
   "outputs": [],
   "source": [
    "# model = api.load(\"word2vec-ruscorpora-300\")"
   ]
  },
  {
   "cell_type": "code",
   "execution_count": 56,
   "metadata": {},
   "outputs": [],
   "source": [
    "# for n in model.most_similar(positive=[u'цедра_NOUN']):\n",
    "#     print(n[0], n[1])"
   ]
  },
  {
   "cell_type": "code",
   "execution_count": 4,
   "metadata": {},
   "outputs": [],
   "source": [
    "from pymystem3 import Mystem\n",
    "m = Mystem()\n",
    "\n",
    "tag_conversion = {\n",
    "    'A': 'ADJ',                                                                                                                                                                                                                                                                    \n",
    "    'ADV': 'ADV',                                                                                                                                                                                                                                                                    \n",
    "    'ADVPRO': 'ADV',                                                                                                                                                                                                                                                                    \n",
    "    'ANUM': 'ADJ',                                                                                                                                                                                                                                                                    \n",
    "    'APRO': 'DET',                                                                                                                                                                                                                                                                    \n",
    "    'COM': 'ADJ',                                                                                                                                                                                                                                                                    \n",
    "    'CONJ': 'SCONJ',                                                                                                                                                                                                                                                                  \n",
    "    'INTJ': 'INTJ',                                                                                                                                                                                                                                                                   \n",
    "    'NONLEX': 'X',                                                                                                                                                                                                                                                                      \n",
    "    'NUM': 'NUM',                                                                                                                                                                                                                                                                    \n",
    "    'PART': 'PART',                                                                                                                                                                                                                                                                   \n",
    "    'PR': 'ADP',                                                                                                                                                                                                                                                                    \n",
    "    'S': 'NOUN',                                                                                                                                                                                                                                                                   \n",
    "    'SPRO': 'PRON',                                                                                                                                                                                                                                                                   \n",
    "    'UNKN': 'X',                                                                                                                                                                                                                                                                      \n",
    "    'V':'VERB'\n",
    "}\n",
    "\n",
    "def tag(word='пожар', m=m):\n",
    "    \n",
    "    processed = m.analyze(word)[0]\n",
    "    if not \"analysis\" in processed:\n",
    "        raise ValueError('Wrong word')\n",
    "    if not processed[\"analysis\"]:\n",
    "        raise ValueError('Wrong word')\n",
    "    lemma = processed[\"analysis\"][0][\"lex\"].lower().strip()\n",
    "    pos = processed[\"analysis\"][0][\"gr\"].split(',')[0]\n",
    "    pos = pos.split('=')[0].strip()\n",
    "    tagged = lemma+'_'+tag_conversion[pos]\n",
    "    return tagged"
   ]
  },
  {
   "cell_type": "code",
   "execution_count": 5,
   "metadata": {},
   "outputs": [
    {
     "data": {
      "text/html": [
       "<div>\n",
       "<style scoped>\n",
       "    .dataframe tbody tr th:only-of-type {\n",
       "        vertical-align: middle;\n",
       "    }\n",
       "\n",
       "    .dataframe tbody tr th {\n",
       "        vertical-align: top;\n",
       "    }\n",
       "\n",
       "    .dataframe thead th {\n",
       "        text-align: right;\n",
       "    }\n",
       "</style>\n",
       "<table border=\"1\" class=\"dataframe\">\n",
       "  <thead>\n",
       "    <tr style=\"text-align: right;\">\n",
       "      <th></th>\n",
       "      <th>id</th>\n",
       "      <th>url</th>\n",
       "      <th>title</th>\n",
       "      <th>ingredients</th>\n",
       "      <th>descr</th>\n",
       "      <th>steps</th>\n",
       "      <th>images</th>\n",
       "      <th>images_step</th>\n",
       "    </tr>\n",
       "  </thead>\n",
       "  <tbody>\n",
       "    <tr>\n",
       "      <th>0</th>\n",
       "      <td>24419</td>\n",
       "      <td>https://eda.ru/recepty/vypechka-deserty/sloeni...</td>\n",
       "      <td>Слоеные булки</td>\n",
       "      <td>Вода:350 мл|Пшеничная мука:500 г|Соль:по вкусу...</td>\n",
       "      <td>NaN</td>\n",
       "      <td>1. Вотрите дрожжи в муку до образования одноро...</td>\n",
       "      <td>images/24419_1.jpg</td>\n",
       "      <td>NaN</td>\n",
       "    </tr>\n",
       "    <tr>\n",
       "      <th>1</th>\n",
       "      <td>24410</td>\n",
       "      <td>https://eda.ru/recepty/vypechka-deserty/italja...</td>\n",
       "      <td>Итальянское персиковое мороженое (Gelato)</td>\n",
       "      <td>Молоко:6 стаканов|Сахар:1 стакан|Яичный желток...</td>\n",
       "      <td>NaN</td>\n",
       "      <td>1. В блендере измельчите очищенные от кожуры п...</td>\n",
       "      <td>images/24410_1.jpg</td>\n",
       "      <td>NaN</td>\n",
       "    </tr>\n",
       "    <tr>\n",
       "      <th>2</th>\n",
       "      <td>24411</td>\n",
       "      <td>https://eda.ru/recepty/vypechka-deserty/italja...</td>\n",
       "      <td>Итальянское мороженое с лимонной цедрой (Gelato)</td>\n",
       "      <td>Молоко:6 стаканов|Сахар:1 стакан|Яичный желток...</td>\n",
       "      <td>NaN</td>\n",
       "      <td>1. В большой кастрюле смешайте слегка взбитые ...</td>\n",
       "      <td>images/24411_1.jpg</td>\n",
       "      <td>NaN</td>\n",
       "    </tr>\n",
       "    <tr>\n",
       "      <th>3</th>\n",
       "      <td>24414</td>\n",
       "      <td>https://eda.ru/recepty/salaty/zakuska-iz-kuric...</td>\n",
       "      <td>Закуска из курицы в листьях салата</td>\n",
       "      <td>Куриная грудка:1 штука|Оливковое масло:3 столо...</td>\n",
       "      <td>NaN</td>\n",
       "      <td>1. Смешайте ингредиенты для соуса: масло, соев...</td>\n",
       "      <td>images/24414_1.jpg</td>\n",
       "      <td>NaN</td>\n",
       "    </tr>\n",
       "    <tr>\n",
       "      <th>4</th>\n",
       "      <td>24413</td>\n",
       "      <td>https://eda.ru/recepty/zakuski/marinovannie-ku...</td>\n",
       "      <td>Маринованные куриные ломтики</td>\n",
       "      <td>Лайм:1 штука|Чеснок:1 зубчик|Соевый соус:2 сто...</td>\n",
       "      <td>NaN</td>\n",
       "      <td>1. Приготовьте маринад из сока и цедры лайма, ...</td>\n",
       "      <td>images/24413_1.jpg</td>\n",
       "      <td>NaN</td>\n",
       "    </tr>\n",
       "  </tbody>\n",
       "</table>\n",
       "</div>"
      ],
      "text/plain": [
       "      id                                                url  \\\n",
       "0  24419  https://eda.ru/recepty/vypechka-deserty/sloeni...   \n",
       "1  24410  https://eda.ru/recepty/vypechka-deserty/italja...   \n",
       "2  24411  https://eda.ru/recepty/vypechka-deserty/italja...   \n",
       "3  24414  https://eda.ru/recepty/salaty/zakuska-iz-kuric...   \n",
       "4  24413  https://eda.ru/recepty/zakuski/marinovannie-ku...   \n",
       "\n",
       "                                              title  \\\n",
       "0                                     Слоеные булки   \n",
       "1         Итальянское персиковое мороженое (Gelato)   \n",
       "2  Итальянское мороженое с лимонной цедрой (Gelato)   \n",
       "3                Закуска из курицы в листьях салата   \n",
       "4                      Маринованные куриные ломтики   \n",
       "\n",
       "                                         ingredients descr  \\\n",
       "0  Вода:350 мл|Пшеничная мука:500 г|Соль:по вкусу...   NaN   \n",
       "1  Молоко:6 стаканов|Сахар:1 стакан|Яичный желток...   NaN   \n",
       "2  Молоко:6 стаканов|Сахар:1 стакан|Яичный желток...   NaN   \n",
       "3  Куриная грудка:1 штука|Оливковое масло:3 столо...   NaN   \n",
       "4  Лайм:1 штука|Чеснок:1 зубчик|Соевый соус:2 сто...   NaN   \n",
       "\n",
       "                                               steps              images  \\\n",
       "0  1. Вотрите дрожжи в муку до образования одноро...  images/24419_1.jpg   \n",
       "1  1. В блендере измельчите очищенные от кожуры п...  images/24410_1.jpg   \n",
       "2  1. В большой кастрюле смешайте слегка взбитые ...  images/24411_1.jpg   \n",
       "3  1. Смешайте ингредиенты для соуса: масло, соев...  images/24414_1.jpg   \n",
       "4  1. Приготовьте маринад из сока и цедры лайма, ...  images/24413_1.jpg   \n",
       "\n",
       "  images_step  \n",
       "0         NaN  \n",
       "1         NaN  \n",
       "2         NaN  \n",
       "3         NaN  \n",
       "4         NaN  "
      ]
     },
     "execution_count": 5,
     "metadata": {},
     "output_type": "execute_result"
    }
   ],
   "source": [
    "data = pd.read_csv('data/eda_ru/eda_ru_filtered.csv')\n",
    "data.head()"
   ]
  },
  {
   "cell_type": "code",
   "execution_count": 6,
   "metadata": {},
   "outputs": [
    {
     "data": {
      "text/plain": [
       "['Слоеные булки',\n",
       " 'Итальянское персиковое мороженое (Gelato)',\n",
       " 'Итальянское мороженое с лимонной цедрой (Gelato)',\n",
       " 'Закуска из курицы в листьях салата',\n",
       " 'Маринованные куриные ломтики']"
      ]
     },
     "execution_count": 6,
     "metadata": {},
     "output_type": "execute_result"
    }
   ],
   "source": [
    "titles = list(data.title.values)\n",
    "titles[:5]"
   ]
  },
  {
   "cell_type": "code",
   "execution_count": 7,
   "metadata": {},
   "outputs": [
    {
     "data": {
      "text/plain": [
       "['1. Вотрите дрожжи в муку до образования однородной крошки. Добавьте соль, потом воду. Замешивайте тесто 2 -3 минуты, пока оно не начнет собираться в ком. Оставьте на 1 час для расстойки.',\n",
       " '2. Выложите тесто на присыпанную поверхность. Слегка разровняйте его руками и раскатайте до толщины 5 мм.',\n",
       " '3. Формой вырежьте круги, слегка смочите их водой и сложите в стопки по 4 штуки.',\n",
       " '4. Разместите булки на плоском листе или перевернутом противне и оставьте на 45 минут.',\n",
       " '5. Поставьте противень с булками в разогретую до максимума духовку. Сбрызните духовку водой из пульверизатора и сразу же закройте. Уменьшите температуру до 230 градусов и пеките булки 10 – 12 минут, пока корочка не станет темно-золотистой. Охладите на решетке.',\n",
       " '1. В блендере измельчите очищенные от кожуры персики до состояния пюре.',\n",
       " '2. В большой кастрюле смешайте слегка взбитые желтки, 3 стакана молока и сахар. Поставьте на очень маленький огонь и, взбивая, нагревайте, пока масса не загустеет. Снимите с огня добавьте 2 стакана персикового пюре. Перемешайте и медленно введите оставшееся молоко.',\n",
       " '3. Охладите, затем заморозьте, иногда перемешивая.',\n",
       " '1. В большой кастрюле смешайте слегка взбитые желтки, 3 стакана молока и сахар. Поставьте на очень маленький огонь и, взбивая, нагревайте, пока масса не загустеет. Снимите с огня и медленно введите оставшееся молоко и натертую цедру.',\n",
       " '2. Охладите, затем заморозьте, иногда перемешивая.']"
      ]
     },
     "execution_count": 7,
     "metadata": {},
     "output_type": "execute_result"
    }
   ],
   "source": [
    "steps = []\n",
    "for recipe in data.steps.values:\n",
    "    steps.extend(recipe.split('|'))\n",
    "steps[:10]"
   ]
  },
  {
   "cell_type": "code",
   "execution_count": 8,
   "metadata": {},
   "outputs": [
    {
     "name": "stdout",
     "output_type": "stream",
     "text": [
      "186952\n"
     ]
    }
   ],
   "source": [
    "sentences = titles + steps\n",
    "print(len(sentences))\n",
    "tokenizer = RegexpTokenizer(r'\\w+')\n",
    "sentences_tokenized = [w.lower() for w in sentences]\n",
    "sentences_tokenized = [tokenizer.tokenize(i) for i in sentences_tokenized]"
   ]
  },
  {
   "cell_type": "code",
   "execution_count": 9,
   "metadata": {},
   "outputs": [
    {
     "name": "stderr",
     "output_type": "stream",
     "text": [
      "100%|██████████| 186952/186952 [00:03<00:00, 52622.06it/s]\n"
     ]
    }
   ],
   "source": [
    "word_to_tag = {}\n",
    "wrong_words = set()\n",
    "for s in tqdm.tqdm(sentences_tokenized):\n",
    "    for w in s:\n",
    "        if (w not in wrong_words) and (w not in word_to_tag):\n",
    "            try:\n",
    "                w_tag = tag(w)\n",
    "            except ValueError:\n",
    "                wrong_words.add(w)\n",
    "                continue\n",
    "            word_to_tag[w] = w_tag"
   ]
  },
  {
   "cell_type": "code",
   "execution_count": 10,
   "metadata": {},
   "outputs": [
    {
     "name": "stderr",
     "output_type": "stream",
     "text": [
      "100%|██████████| 186952/186952 [05:10<00:00, 602.07it/s]\n"
     ]
    }
   ],
   "source": [
    "sentences_tokenized_with_tags = []\n",
    "for s in tqdm.tqdm(sentences_tokenized):\n",
    "    cur_sentence = []\n",
    "    for w in s:\n",
    "        try:\n",
    "            current_tag = tag(w)\n",
    "        except:\n",
    "            continue\n",
    "        cur_sentence.append(tag(w))\n",
    "    sentences_tokenized_with_tags.append(cur_sentence)"
   ]
  },
  {
   "cell_type": "code",
   "execution_count": 11,
   "metadata": {},
   "outputs": [
    {
     "data": {
      "text/plain": [
       "[['слоеный_ADJ', 'булка_NOUN'],\n",
       " ['итальянский_ADJ', 'персиковый_ADJ', 'мороженое_NOUN'],\n",
       " ['итальянский_ADJ', 'мороженое_NOUN', 'с_NOUN', 'лимонный_ADJ', 'цедра_NOUN'],\n",
       " ['закуска_NOUN',\n",
       "  'из_ADP',\n",
       "  'курица_NOUN',\n",
       "  'в_NOUN',\n",
       "  'лист_NOUN',\n",
       "  'салат_NOUN'],\n",
       " ['мариновать_VERB', 'куриный_ADJ', 'ломтик_NOUN'],\n",
       " ['курица_NOUN',\n",
       "  'с_NOUN',\n",
       "  'виноград_NOUN',\n",
       "  'и_SCONJ',\n",
       "  'тархун_NOUN',\n",
       "  'в_NOUN',\n",
       "  'белый_ADJ',\n",
       "  'вино_NOUN'],\n",
       " ['тарт_NOUN', 'с_NOUN', 'цитрусовый_ADJ', 'и_SCONJ', 'висок_NOUN'],\n",
       " ['овощной_ADJ', 'весенний_ADJ', 'суп_NOUN', 'с_NOUN', 'сыр_NOUN'],\n",
       " ['суп_NOUN', 'пюре_NOUN', 'гороховый_ADJ', 'с_NOUN', 'бекон_NOUN'],\n",
       " ['острый_ADJ', 'суп_NOUN', 'кукси_NOUN', 'с_NOUN', 'кимчать_VERB']]"
      ]
     },
     "execution_count": 11,
     "metadata": {},
     "output_type": "execute_result"
    }
   ],
   "source": [
    "sentences_tokenized_with_tags[:10]"
   ]
  },
  {
   "cell_type": "code",
   "execution_count": 28,
   "metadata": {},
   "outputs": [
    {
     "data": {
      "text/plain": [
       "(702158925, 890409600)"
      ]
     },
     "execution_count": 28,
     "metadata": {},
     "output_type": "execute_result"
    }
   ],
   "source": [
    "model = Word2Vec(size=300, min_count=1)\n",
    "model.build_vocab(sentences_tokenized_with_tags)\n",
    "total_examples = model.corpus_count\n",
    "model.train(sentences_tokenized_with_tags, total_examples=total_examples, epochs=300)"
   ]
  },
  {
   "cell_type": "code",
   "execution_count": 38,
   "metadata": {},
   "outputs": [
    {
     "data": {
      "text/plain": [
       "0.50724673"
      ]
     },
     "execution_count": 38,
     "metadata": {},
     "output_type": "execute_result"
    }
   ],
   "source": [
    "model.wv.similarity(tag('огурец'), tag('помидор'))"
   ]
  },
  {
   "cell_type": "code",
   "execution_count": 39,
   "metadata": {},
   "outputs": [
    {
     "name": "stdout",
     "output_type": "stream",
     "text": [
      "багет_NOUN 0.5961970090866089\n",
      "батон_NOUN 0.5683152675628662\n",
      "булка_NOUN 0.5442439317703247\n",
      "чиабатт_NOUN 0.5181292295455933\n",
      "тост_NOUN 0.48992249369621277\n",
      "булочка_NOUN 0.4454916715621948\n",
      "сэндвич_NOUN 0.38475048542022705\n",
      "гренок_NOUN 0.36074358224868774\n",
      "хлебный_ADJ 0.35707569122314453\n",
      "хлебец_NOUN 0.35418248176574707\n"
     ]
    }
   ],
   "source": [
    "for n in model.wv.most_similar(positive=[u'хлеб_NOUN']):\n",
    "    print(n[0], n[1])"
   ]
  },
  {
   "cell_type": "code",
   "execution_count": 40,
   "metadata": {},
   "outputs": [
    {
     "name": "stdout",
     "output_type": "stream",
     "text": [
      "лайма_NOUN 0.7456248998641968\n",
      "лимонный_ADJ 0.705265462398529\n",
      "апельсин_NOUN 0.6387690901756287\n",
      "апельсиновый_ADJ 0.558100163936615\n",
      "лимонов_NOUN 0.49364572763442993\n",
      "алельнин_NOUN 0.4570106863975525\n",
      "лайм_NOUN 0.45244553685188293\n",
      "танжело_NOUN 0.4063279628753662\n",
      "апельсиновыя_NOUN 0.4026985168457031\n",
      "лаймовый_ADJ 0.391347736120224\n"
     ]
    }
   ],
   "source": [
    "for n in model.wv.most_similar(positive=[u'лимон_NOUN']):\n",
    "    print(n[0], n[1])"
   ]
  },
  {
   "cell_type": "code",
   "execution_count": 41,
   "metadata": {},
   "outputs": [
    {
     "name": "stdout",
     "output_type": "stream",
     "text": [
      "суп_NOUN 0.4488198757171631\n",
      "борщ_NOUN 0.44113361835479736\n",
      "рассольник_NOUN 0.4297197163105011\n",
      "солянка_NOUN 0.36750268936157227\n",
      "уха_NOUN 0.3507572412490845\n",
      "гуляш_NOUN 0.34441307187080383\n",
      "калья_NOUN 0.33206242322921753\n",
      "орсинь_NOUN 0.2908477187156677\n",
      "тьян_NOUN 0.2791593074798584\n",
      "чахохбили_NOUN 0.2714824676513672\n"
     ]
    }
   ],
   "source": [
    "for n in model.wv.most_similar(positive=[u'щи_NOUN']):\n",
    "    print(n[0], n[1])"
   ]
  },
  {
   "cell_type": "code",
   "execution_count": 42,
   "metadata": {},
   "outputs": [
    {
     "name": "stdout",
     "output_type": "stream",
     "text": [
      "баррамундить_VERB 0.4170074462890625\n",
      "амур_NOUN 0.3910447955131531\n",
      "тилапия_NOUN 0.3527858257293701\n",
      "палтус_NOUN 0.3493863046169281\n",
      "телапия_NOUN 0.3334099352359772\n",
      "гна_NOUN 0.32311418652534485\n",
      "судак_NOUN 0.31817638874053955\n",
      "муксун_NOUN 0.2841493487358093\n",
      "форель_NOUN 0.27812644839286804\n",
      "обезглавливать_VERB 0.27595198154449463\n"
     ]
    }
   ],
   "source": [
    "for n in model.wv.most_similar(positive=[u'хек_NOUN']):\n",
    "    print(n[0], n[1])"
   ]
  },
  {
   "cell_type": "code",
   "execution_count": 43,
   "metadata": {},
   "outputs": [
    {
     "name": "stdout",
     "output_type": "stream",
     "text": [
      "крем_NOUN 0.5741153359413147\n",
      "карамель_NOUN 0.5220332145690918\n",
      "помадка_NOUN 0.5166994333267212\n",
      "сироп_NOUN 0.5063947439193726\n",
      "ганаш_NOUN 0.4678892195224762\n",
      "торт_NOUN 0.43716004490852356\n",
      "желе_NOUN 0.409631609916687\n",
      "мусс_NOUN 0.38634324073791504\n",
      "кекс_NOUN 0.3826807737350464\n",
      "соус_NOUN 0.38038817048072815\n"
     ]
    }
   ],
   "source": [
    "for n in model.wv.most_similar(positive=[u'глазурь_NOUN']):\n",
    "    print(n[0], n[1])"
   ]
  },
  {
   "cell_type": "code",
   "execution_count": 44,
   "metadata": {},
   "outputs": [
    {
     "name": "stdout",
     "output_type": "stream",
     "text": [
      "фроузен_NOUN 0.4243203401565552\n",
      "чизкек_NOUN 0.4142407774925232\n",
      "сорбеты_NOUN 0.39864516258239746\n",
      "десерт_NOUN 0.39526957273483276\n",
      "мороженое_NOUN 0.37708765268325806\n",
      "эггногий_NOUN 0.3716740310192108\n",
      "грин_NOUN 0.36121702194213867\n",
      "кулиса_NOUN 0.3586828410625458\n",
      "мусс_NOUN 0.3572828471660614\n",
      "компот_NOUN 0.35177531838417053\n"
     ]
    }
   ],
   "source": [
    "for n in model.wv.most_similar(positive=[u'смузи_NOUN']):\n",
    "    print(n[0], n[1])"
   ]
  },
  {
   "cell_type": "code",
   "execution_count": 49,
   "metadata": {},
   "outputs": [
    {
     "name": "stdout",
     "output_type": "stream",
     "text": [
      "томат_NOUN 0.7807319164276123\n",
      "цукини_NOUN 0.5298959016799927\n",
      "кабачок_NOUN 0.5250635147094727\n",
      "баклажан_NOUN 0.5092100501060486\n",
      "огурец_NOUN 0.507246732711792\n",
      "оливка_NOUN 0.49871042370796204\n",
      "маслина_NOUN 0.492484450340271\n",
      "болгарский_ADJ 0.45306527614593506\n",
      "шампиньон_NOUN 0.44473984837532043\n",
      "овощ_NOUN 0.4393238425254822\n"
     ]
    }
   ],
   "source": [
    "for n in model.wv.most_similar(positive=[u'помидор_NOUN']):\n",
    "    print(n[0], n[1])"
   ]
  },
  {
   "cell_type": "code",
   "execution_count": 48,
   "metadata": {},
   "outputs": [
    {
     "name": "stdout",
     "output_type": "stream",
     "text": [
      "тушить_VERB 0.745673656463623\n",
      "проваривать_VERB 0.6913928985595703\n",
      "готовить_VERB 0.6619253158569336\n",
      "томить_VERB 0.6392511129379272\n",
      "поварить_VERB 0.6391982436180115\n",
      "потушить_VERB 0.5272253751754761\n",
      "кипятить_VERB 0.5116965770721436\n",
      "отваривать_VERB 0.48332083225250244\n",
      "подержать_VERB 0.47764837741851807\n",
      "покипеть_VERB 0.47580963373184204\n"
     ]
    }
   ],
   "source": [
    "for n in model.wv.most_similar(positive=[u'варить_VERB']):\n",
    "    print(n[0], n[1])"
   ]
  },
  {
   "cell_type": "code",
   "execution_count": 50,
   "metadata": {},
   "outputs": [
    {
     "name": "stdout",
     "output_type": "stream",
     "text": [
      "мед_NOUN 0.5341365337371826\n",
      "сахарный_ADJ 0.4989052712917328\n",
      "ванилин_NOUN 0.4900962710380554\n",
      "мука_NOUN 0.48535722494125366\n",
      "пудра_NOUN 0.4755537807941437\n",
      "корица_NOUN 0.4504908621311188\n",
      "какао_NOUN 0.4383567273616791\n",
      "ваниль_NOUN 0.42336830496788025\n",
      "экстракт_NOUN 0.4185176193714142\n",
      "крахмал_NOUN 0.4075784683227539\n"
     ]
    }
   ],
   "source": [
    "for n in model.wv.most_similar(positive=[u'сахар_NOUN']):\n",
    "    print(n[0], n[1])"
   ]
  },
  {
   "cell_type": "code",
   "execution_count": 51,
   "metadata": {},
   "outputs": [
    {
     "name": "stdout",
     "output_type": "stream",
     "text": [
      "кайенский_ADJ 0.4898010492324829\n",
      "посолить_VERB 0.4598104655742645\n",
      "черный_ADJ 0.400374174118042\n",
      "молотый_ADJ 0.3563736081123352\n",
      "орегано_NOUN 0.3547095060348511\n",
      "душистый_ADJ 0.349165678024292\n",
      "ситимь_NOUN 0.34489062428474426\n",
      "паприка_NOUN 0.3392484784126282\n",
      "специя_NOUN 0.3340928256511688\n",
      "свежемолотый_ADJ 0.3306758999824524\n"
     ]
    }
   ],
   "source": [
    "for n in model.wv.most_similar(positive=[u'соль_NOUN']):\n",
    "    print(n[0], n[1])"
   ]
  },
  {
   "cell_type": "code",
   "execution_count": 55,
   "metadata": {},
   "outputs": [],
   "source": [
    "model.save('food_w2v_300.w2v')"
   ]
  },
  {
   "cell_type": "code",
   "execution_count": null,
   "metadata": {},
   "outputs": [],
   "source": []
  }
 ],
 "metadata": {
  "kernelspec": {
   "display_name": "Python 3",
   "language": "python",
   "name": "python3"
  },
  "language_info": {
   "codemirror_mode": {
    "name": "ipython",
    "version": 3
   },
   "file_extension": ".py",
   "mimetype": "text/x-python",
   "name": "python",
   "nbconvert_exporter": "python",
   "pygments_lexer": "ipython3",
   "version": "3.7.8"
  }
 },
 "nbformat": 4,
 "nbformat_minor": 4
}
