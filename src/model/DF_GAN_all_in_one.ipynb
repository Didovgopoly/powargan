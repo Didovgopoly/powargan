{
 "cells": [
  {
   "cell_type": "code",
   "execution_count": 1,
   "metadata": {
    "id": "vSTwg1N4NOEX"
   },
   "outputs": [],
   "source": [
    "from pathlib import Path\n",
    "import pickle\n",
    "import random\n",
    "from collections import OrderedDict\n",
    "\n",
    "from matplotlib.pyplot import imshow\n",
    "import numpy as np\n",
    "import pandas as pd\n",
    "from PIL import Image\n",
    "import torch\n",
    "from torch.autograd import Variable\n",
    "import torch.nn as nn\n",
    "import torch.backends.cudnn as cudnn\n",
    "import torch.utils.data as data\n",
    "import torchvision.transforms as transforms\n",
    "import torchvision.utils as vutils\n",
    "import torch.nn.functional as F"
   ]
  },
  {
   "cell_type": "code",
   "execution_count": 22,
   "metadata": {
    "colab": {
     "base_uri": "https://localhost:8080/"
    },
    "id": "JwL9TxOp0zoj",
    "outputId": "8852d39e-437f-4af2-a240-f6ff16dae4e9"
   },
   "outputs": [
    {
     "name": "stdout",
     "output_type": "stream",
     "text": [
      "Drive already mounted at /content/drive; to attempt to forcibly remount, call drive.mount(\"/content/drive\", force_remount=True).\n"
     ]
    }
   ],
   "source": [
    "from google.colab import drive\n",
    "drive.mount('/content/drive')\n",
    "drive_path = '/content/drive/My Drive/text2image'"
   ]
  },
  {
   "cell_type": "code",
   "execution_count": 2,
   "metadata": {
    "colab": {
     "base_uri": "https://localhost:8080/"
    },
    "id": "S9Tnj0SvNOEe",
    "outputId": "a8bc236c-7ca3-4cef-84ad-69ea9613153a"
   },
   "outputs": [
    {
     "name": "stdout",
     "output_type": "stream",
     "text": [
      "CPU times: user 341 µs, sys: 0 ns, total: 341 µs\n",
      "Wall time: 247 µs\n"
     ]
    }
   ],
   "source": [
    "%%time\n",
    "import os\n",
    "if not os.path.exists('data'):\n",
    "    os.mkdir('data')\n",
    "if not os.path.exists('data/embeddings'):\n",
    "    os.mkdir('data/embeddings')\n",
    "if not os.path.exists('GDriveDL.py'):\n",
    "    !wget https://raw.githubusercontent.com/matthuisman/gdrivedl/master/gdrivedl.py -O GDriveDL.py\n",
    "if not os.path.exists('data/embeddings/missing_steps.pkl'):\n",
    "    !python GDriveDL.py https://drive.google.com/open?id=1xe61xauPhF7pI6iBGxL8y3hdJnUim2qa data/embeddings\n",
    "if not os.path.exists('data/embeddings/RuBERT_max_embeddings_long.pkl'):\n",
    "    !python GDriveDL.py https://drive.google.com/open?id=1F8Njpfs1vrv9KitfqJ39exJUvGP-r1Zj data/embeddings\n",
    "if not os.path.exists('data/embeddings/RuBERT_mean_embeddings_long.pkl'):\n",
    "    !python GDriveDL.py https://drive.google.com/open?id=1xWXWf2244nq8PWVWDq5T_GGQz9w0QB1w data/embeddings\n",
    "if not os.path.exists('data/embeddings/RuBERT_max_embeddings_short.pkl'):\n",
    "    !python GDriveDL.py https://drive.google.com/open?id=1OxQi2Sd1bRMCV_Ms2RBLX3u4H8VqM3pC data/embeddings\n",
    "if not os.path.exists('data/embeddings/RuBERT_mean_embeddings_short.pkl'):\n",
    "    !python GDriveDL.py https://drive.google.com/open?id=1rtgoSSYnFNV4tPA-pZRxjXUTKubFkZIv data/embeddings\n",
    "if not os.path.exists('data/russianfood.zip'):        \n",
    "    !python GDriveDL.py https://drive.google.com/open?id=1dZzUGmu8tQOduIr4vo933hFj9YGam-P3 data    \n",
    "    !unzip -q data/russianfood.zip -d data\n",
    "if not os.path.exists('df_gan.zip'):        \n",
    "    !python GDriveDL.py https://drive.google.com/open?id=1KKAqwSbHd-_qMpOAjYdbBRCh4M-HbRTH .\n",
    "    !unzip -q df_gan.zip"
   ]
  },
  {
   "cell_type": "code",
   "execution_count": 3,
   "metadata": {
    "id": "4pDmIG_zNqdV"
   },
   "outputs": [],
   "source": [
    "class NetG(nn.Module):\n",
    "    def __init__(self, ngf=64, nz=100):\n",
    "        super(NetG, self).__init__()\n",
    "\n",
    "        self.fc_embedding = nn.Linear(768, 256)\n",
    "\n",
    "        self.ngf = ngf\n",
    "\n",
    "        # layer1输入的是一个100x1x1的随机噪声, 输出尺寸(ngf*8)x4x4\n",
    "        self.fc = nn.Linear(nz, ngf*8*4*4)\n",
    "        self.block0 = G_Block(ngf * 8, ngf * 8)#4x4\n",
    "        self.block1 = G_Block(ngf * 8, ngf * 8)#4x4\n",
    "        self.block2 = G_Block(ngf * 8, ngf * 8)#8x8\n",
    "        self.block3 = G_Block(ngf * 8, ngf * 8)#16x16\n",
    "        self.block4 = G_Block(ngf * 8, ngf * 4)#32x32\n",
    "        self.block5 = G_Block(ngf * 4, ngf * 2)#64x64\n",
    "        self.block6 = G_Block(ngf * 2, ngf * 1)#128x128\n",
    "\n",
    "        self.conv_img = nn.Sequential(\n",
    "            nn.LeakyReLU(0.2,inplace=True),\n",
    "            nn.Conv2d(ngf, 3, 3, 1, 1),\n",
    "            nn.Tanh(),\n",
    "        )\n",
    "\n",
    "    def forward(self, x, c):\n",
    "\n",
    "        c = self.fc_embedding(c)\n",
    "\n",
    "        out = self.fc(x)\n",
    "        out = out.view(x.size(0), 8*self.ngf, 4, 4)\n",
    "        out = self.block0(out,c)\n",
    "\n",
    "        out = F.interpolate(out, scale_factor=2)\n",
    "        out = self.block1(out,c)\n",
    "\n",
    "        out = F.interpolate(out, scale_factor=2)\n",
    "        out = self.block2(out,c)\n",
    "\n",
    "        out = F.interpolate(out, scale_factor=2)\n",
    "        out = self.block3(out,c)\n",
    "\n",
    "        out = F.interpolate(out, scale_factor=2)\n",
    "        out = self.block4(out,c)\n",
    "\n",
    "        out = F.interpolate(out, scale_factor=2)\n",
    "        out = self.block5(out,c)\n",
    "\n",
    "        out = F.interpolate(out, scale_factor=2)\n",
    "        out = self.block6(out,c)\n",
    "\n",
    "        out = self.conv_img(out)\n",
    "\n",
    "        return out\n",
    "\n",
    "\n",
    "class G_Block(nn.Module):\n",
    "\n",
    "    def __init__(self, in_ch, out_ch):\n",
    "        super(G_Block, self).__init__()\n",
    "\n",
    "        self.learnable_sc = in_ch != out_ch \n",
    "        self.c1 = nn.Conv2d(in_ch, out_ch, 3, 1, 1)\n",
    "        self.c2 = nn.Conv2d(out_ch, out_ch, 3, 1, 1)\n",
    "        self.affine0 = affine(in_ch)\n",
    "        self.affine1 = affine(in_ch)\n",
    "        self.affine2 = affine(out_ch)\n",
    "        self.affine3 = affine(out_ch)\n",
    "        self.gamma = nn.Parameter(torch.zeros(1))\n",
    "        if self.learnable_sc:\n",
    "            self.c_sc = nn.Conv2d(in_ch,out_ch, 1, stride=1, padding=0)\n",
    "\n",
    "    def forward(self, x, y=None):\n",
    "        return self.shortcut(x) + self.gamma * self.residual(x, y)\n",
    "\n",
    "    def shortcut(self, x):\n",
    "        if self.learnable_sc:\n",
    "            x = self.c_sc(x)\n",
    "        return x\n",
    "\n",
    "    def residual(self, x, y=None):\n",
    "        h = self.affine0(x, y)\n",
    "        h = nn.LeakyReLU(0.2,inplace=True)(h)\n",
    "        h = self.affine1(h, y)\n",
    "        h = nn.LeakyReLU(0.2,inplace=True)(h)\n",
    "        h = self.c1(h)\n",
    "        \n",
    "        h = self.affine2(h, y)\n",
    "        h = nn.LeakyReLU(0.2,inplace=True)(h)\n",
    "        h = self.affine3(h, y)\n",
    "        h = nn.LeakyReLU(0.2,inplace=True)(h)\n",
    "        return self.c2(h)\n",
    "\n",
    "\n",
    "\n",
    "class affine(nn.Module):\n",
    "\n",
    "    def __init__(self, num_features):\n",
    "        super(affine, self).__init__()\n",
    "\n",
    "        self.fc_gamma = nn.Sequential(OrderedDict([\n",
    "            ('linear1',nn.Linear(256, 256)),\n",
    "            ('relu1',nn.ReLU(inplace=True)),\n",
    "            ('linear2',nn.Linear(256, num_features)),\n",
    "            ]))\n",
    "        self.fc_beta = nn.Sequential(OrderedDict([\n",
    "            ('linear1',nn.Linear(256, 256)),\n",
    "            ('relu1',nn.ReLU(inplace=True)),\n",
    "            ('linear2',nn.Linear(256, num_features)),\n",
    "            ]))\n",
    "        self._initialize()\n",
    "\n",
    "    def _initialize(self):\n",
    "        nn.init.zeros_(self.fc_gamma.linear2.weight.data)\n",
    "        nn.init.ones_(self.fc_gamma.linear2.bias.data)\n",
    "        nn.init.zeros_(self.fc_beta.linear2.weight.data)\n",
    "        nn.init.zeros_(self.fc_beta.linear2.bias.data)\n",
    "\n",
    "    def forward(self, x, y=None):\n",
    "\n",
    "        weight = self.fc_gamma(y)\n",
    "        bias = self.fc_beta(y)        \n",
    "\n",
    "        if weight.dim() == 1:\n",
    "            weight = weight.unsqueeze(0)\n",
    "        if bias.dim() == 1:\n",
    "            bias = bias.unsqueeze(0)\n",
    "\n",
    "        size = x.size()\n",
    "        weight = weight.unsqueeze(-1).unsqueeze(-1).expand(size)\n",
    "        bias = bias.unsqueeze(-1).unsqueeze(-1).expand(size)\n",
    "        return weight * x + bias\n",
    "\n",
    "\n",
    "class D_GET_LOGITS(nn.Module):\n",
    "    def __init__(self, ndf):\n",
    "        super(D_GET_LOGITS, self).__init__()\n",
    "        self.df_dim = ndf\n",
    "        self.fc_embedding = nn.Linear(768, 256)\n",
    "\n",
    "        self.joint_conv = nn.Sequential(\n",
    "            nn.Conv2d(ndf * 16+256, ndf * 2, 3, 1, 1, bias=False),\n",
    "            nn.LeakyReLU(0.2,inplace=True),\n",
    "            nn.Conv2d(ndf * 2, 1, 4, 1, 0, bias=False),\n",
    "        )\n",
    "\n",
    "    def forward(self, out, y):\n",
    "\n",
    "        y = self.fc_embedding(y)\n",
    "        \n",
    "        y = y.view(-1, 256, 1, 1)\n",
    "        y = y.repeat(1, 1, 4, 4)\n",
    "        h_c_code = torch.cat((out, y), 1)\n",
    "        out = self.joint_conv(h_c_code)\n",
    "        return out\n",
    "\n",
    "\n",
    "class NetD(nn.Module):\n",
    "    def __init__(self, ndf):\n",
    "        super(NetD, self).__init__()\n",
    "\n",
    "        self.conv_img = nn.Conv2d(3, ndf, 3, 1, 1)#128\n",
    "        self.block0 = resD(ndf * 1, ndf * 2)#64\n",
    "        self.block1 = resD(ndf * 2, ndf * 4)#32\n",
    "        self.block2 = resD(ndf * 4, ndf * 8)#16\n",
    "        self.block3 = resD(ndf * 8, ndf * 16)#8\n",
    "        self.block4 = resD(ndf * 16, ndf * 16)#4\n",
    "        self.block5 = resD(ndf * 16, ndf * 16)#4\n",
    "\n",
    "        self.COND_DNET = D_GET_LOGITS(ndf)\n",
    "\n",
    "    def forward(self,x):\n",
    "\n",
    "        out = self.conv_img(x)\n",
    "        out = self.block0(out)\n",
    "        out = self.block1(out)\n",
    "        out = self.block2(out)\n",
    "        out = self.block3(out)\n",
    "        out = self.block4(out)\n",
    "        out = self.block5(out)\n",
    "\n",
    "        return out\n",
    "\n",
    "\n",
    "class resD(nn.Module):\n",
    "    def __init__(self, fin, fout, downsample=True):\n",
    "        super().__init__()\n",
    "        self.downsample = downsample\n",
    "        self.learned_shortcut = (fin != fout)\n",
    "        self.conv_r = nn.Sequential(\n",
    "            nn.Conv2d(fin, fout, 4, 2, 1, bias=False),\n",
    "            nn.LeakyReLU(0.2, inplace=True),\n",
    "            \n",
    "            nn.Conv2d(fout, fout, 3, 1, 1, bias=False),\n",
    "            nn.LeakyReLU(0.2, inplace=True),\n",
    "        )\n",
    "\n",
    "        self.conv_s = nn.Conv2d(fin,fout, 1, stride=1, padding=0)\n",
    "        self.gamma = nn.Parameter(torch.zeros(1))\n",
    "\n",
    "    def forward(self, x, c=None):\n",
    "        return self.shortcut(x)+self.gamma*self.residual(x)\n",
    "\n",
    "    def shortcut(self, x):\n",
    "        if self.learned_shortcut:\n",
    "            x = self.conv_s(x)\n",
    "        if self.downsample:\n",
    "            return F.avg_pool2d(x, 2)\n",
    "        return x\n",
    "\n",
    "    def residual(self, x):\n",
    "        return self.conv_r(x)"
   ]
  },
  {
   "cell_type": "code",
   "execution_count": null,
   "metadata": {
    "id": "qKXYVPBDNOEj"
   },
   "outputs": [],
   "source": [
    "# df_gan module is based on DF-GAN by Ming Tao (https://github.com/tobran/DF-GAN)\n",
    "# from df_gan.model import NetG, NetD"
   ]
  },
  {
   "cell_type": "markdown",
   "metadata": {
    "id": "TaKUwBDoNOEl"
   },
   "source": [
    "### 1) Dataset"
   ]
  },
  {
   "cell_type": "code",
   "execution_count": 4,
   "metadata": {
    "id": "Gp0WqatPNOEm"
   },
   "outputs": [],
   "source": [
    "class RecipeDataset(data.Dataset):\n",
    "    def __init__(self, data_dir='data', \n",
    "                 split='train',\n",
    "                 split_size = 0.9,\n",
    "                 embeddings = 'RuBERT_mean_embeddings_long',\n",
    "                 embeddings_type = 'whole_recipe',\n",
    "                 base_size=64,\n",
    "                 transform=None, target_transform=None):\n",
    "        self.transform = transform\n",
    "        self.norm = transforms.Compose([\n",
    "            transforms.ToTensor(),\n",
    "            transforms.Normalize((0.5, 0.5, 0.5), (0.5, 0.5, 0.5))])\n",
    "        self.target_transform = target_transform\n",
    "        \n",
    "        self.data_dir = Path(data_dir)\n",
    "        self.split = split\n",
    "        self.split_size = split_size\n",
    "        \n",
    "        self.embeddings_filename = embeddings\n",
    "        self.embeddings_type = embeddings_type\n",
    "        \n",
    "        self.data = self.load_recipe_dataset()\n",
    "        \n",
    "        self.embeddings = self.load_embeddings()\n",
    "        self.ids, self.filenames, self.recipes = self.load_data()\n",
    "\n",
    "        self.class_id = np.arange(len(self.filenames))\n",
    "\n",
    "    def load_recipe_dataset(self):\n",
    "        data = pd.read_csv(self.data_dir / 'russianfood_filtred.csv')\n",
    "        dataset_size = int(len(data) * self.split_size)\n",
    "        data = data.head(dataset_size) if self.split == 'train' else data.tail(dataset_size)\n",
    "        return data\n",
    "    \n",
    "    def load_embeddings(self):\n",
    "        with open(self.data_dir / f'embeddings/{self.embeddings_filename}.pkl', 'rb') as f:\n",
    "            embeddings_from_file = pickle.load(f)\n",
    "            \n",
    "        embeddings = {}\n",
    "        # оставляем только нужные эмбеддинги\n",
    "        for k, v in embeddings_from_file.items():\n",
    "            embeddings[k] = v[self.embeddings_type]\n",
    "        return embeddings\n",
    "    \n",
    "    def load_data(self):\n",
    "        ''' Загружаем названием рецепта (на всякий случай) и последнее изображение\n",
    "        тут учитываем, что у нас могут быть эмбеддинги не для всех рецептов\n",
    "        '''\n",
    "        self.data['has_embeddings'] = self.data.id.apply(lambda idx: idx in self.embeddings)\n",
    "        self.data = self.data[self.data.has_embeddings]\n",
    "        ids = list(self.data.id.values)\n",
    "        filenames = list(map(lambda x: x.split('|')[-1], self.data.images.values))\n",
    "        recipes = list(self.data.title.values)\n",
    "        return ids, filenames, recipes\n",
    "\n",
    "    def __getitem__(self, index):\n",
    "        #\n",
    "        key = self.filenames[index]\n",
    "        cls_id = self.class_id[index]\n",
    "       \n",
    "        # Загружаем изображение\n",
    "        img_path = self.data_dir / key  \n",
    "        img = Image.open(img_path).convert('RGB')\n",
    "        width, height = img.size\n",
    "        if self.transform is not None:\n",
    "            img = self.transform(img)\n",
    "        imgs = []\n",
    "        imgs.append(self.norm(img))\n",
    "        \n",
    "        # ИСПРАВИТЬ - временно для того чтобы проверить работоспособность в целом\n",
    "        embs = self.embeddings[self.ids[index]] #[:256]\n",
    "        \n",
    "        return imgs, embs, cls_id, key\n",
    "    \n",
    "    def __len__(self):\n",
    "        return len(self.filenames)"
   ]
  },
  {
   "cell_type": "code",
   "execution_count": 5,
   "metadata": {
    "id": "O5eWxLRrNOEp"
   },
   "outputs": [],
   "source": [
    "embeddings = 'RuBERT_mean_embeddings_long'\n",
    "embeddings_type = 'whole_recipe'\n",
    "train_data = RecipeDataset(split = 'train', split_size=0.9, embeddings=embeddings, embeddings_type=embeddings_type)"
   ]
  },
  {
   "cell_type": "markdown",
   "metadata": {
    "id": "F5ruvDXVNOEr"
   },
   "source": [
    "#### Посмотрим что получилось:"
   ]
  },
  {
   "cell_type": "code",
   "execution_count": 6,
   "metadata": {
    "colab": {
     "base_uri": "https://localhost:8080/",
     "height": 391
    },
    "id": "dSylcA_DNOEr",
    "outputId": "9451c005-0417-4ac0-c55f-3f226cf41010"
   },
   "outputs": [
    {
     "name": "stderr",
     "output_type": "stream",
     "text": [
      "Clipping input data to the valid range for imshow with RGB data ([0..1] for floats or [0..255] for integers).\n"
     ]
    },
    {
     "name": "stdout",
     "output_type": "stream",
     "text": [
      "[134548, 114586, 145246, 146924, 148257]\n",
      "['Торт без выпечки, с творогом и черносливом', 'Курица в сливках с черносливом', 'Чесночная картошка \"Объедение\" в духовке', 'Жареные помидоры', 'Варёные яйца в виде поросят']\n",
      "['images/134548_4.jpg', 'images/114586_8.jpg', 'images/145246_8.jpg', 'images/146924_7.jpg', 'images/148257_10.jpg']\n",
      "11363\n"
     ]
    },
    {
     "data": {
      "text/plain": [
       "<matplotlib.image.AxesImage at 0x7f9b447d2198>"
      ]
     },
     "execution_count": 6,
     "metadata": {
      "tags": []
     },
     "output_type": "execute_result"
    },
    {
     "data": {
      "image/png": "[encoded data removed]",
      "text/plain": [
       "<Figure size 432x288 with 1 Axes>"
      ]
     },
     "metadata": {
      "needs_background": "light",
      "tags": []
     },
     "output_type": "display_data"
    }
   ],
   "source": [
    "print(train_data.ids[:5])\n",
    "print(train_data.recipes[:5])\n",
    "print(train_data.filenames[:5])\n",
    "print(len(train_data))\n",
    "imshow(train_data[1][0][0].numpy().transpose(1, 2, 0))"
   ]
  },
  {
   "cell_type": "markdown",
   "metadata": {
    "id": "PoXn6sHUNOEw"
   },
   "source": [
    "## 2) Обучение"
   ]
  },
  {
   "cell_type": "code",
   "execution_count": 7,
   "metadata": {
    "colab": {
     "base_uri": "https://localhost:8080/"
    },
    "id": "8uRiK_leNOEw",
    "outputId": "19eab7bf-51cf-4c0f-94ba-9d81a90d311b"
   },
   "outputs": [
    {
     "name": "stdout",
     "output_type": "stream",
     "text": [
      "seed now is :  100\n"
     ]
    }
   ],
   "source": [
    "seed = 100\n",
    "print(\"seed now is : \", seed)\n",
    "random.seed(seed)\n",
    "np.random.seed(seed)\n",
    "torch.manual_seed(seed)\n",
    "torch.cuda.manual_seed_all(seed)\n",
    "\n",
    "device = torch.device(\"cuda\") if torch.cuda.is_available() else torch.device('cpu')\n",
    "cudnn.benchmark = True"
   ]
  },
  {
   "cell_type": "code",
   "execution_count": 8,
   "metadata": {
    "colab": {
     "base_uri": "https://localhost:8080/"
    },
    "id": "swNJBDvTNOE0",
    "outputId": "fb1ba18f-0cc3-414d-fe1b-f4e6ba5d563a"
   },
   "outputs": [
    {
     "data": {
      "text/plain": [
       "device(type='cuda')"
      ]
     },
     "execution_count": 8,
     "metadata": {
      "tags": []
     },
     "output_type": "execute_result"
    }
   ],
   "source": [
    "device"
   ]
  },
  {
   "cell_type": "markdown",
   "metadata": {
    "id": "xfOT0k0lNOE2"
   },
   "source": [
    "#### Config:"
   ]
  },
  {
   "cell_type": "code",
   "execution_count": 17,
   "metadata": {
    "id": "KZbbtxOjNOE3"
   },
   "outputs": [],
   "source": [
    "config = {}\n",
    "\n",
    "config['MODEL_NAME'] = 'test1'\n",
    "\n",
    "config['CUDA'] = True\n",
    "config['WORKERS'] = 4\n",
    "\n",
    "config['loss'] = 'hinge'\n",
    "config['BASE_SIZE'] = 64\n",
    "\n",
    "config['DATASET'] = {}\n",
    "config['DATASET']['EMBEDDINGS_FILE'] = 'RuBERT_mean_embeddings_long'\n",
    "config['DATASET']['EMBEDDINGS_TYPE'] = 'whole_recipe'\n",
    "\n",
    "\n",
    "config['TRAIN'] = {}\n",
    "config['TRAIN']['BATCH_SIZE'] = 16\n",
    "config['TRAIN']['MAX_EPOCH'] = 512\n",
    "config['TRAIN']['SNAPSHOT_INTERVAL'] = 2000\n",
    "config['TRAIN']['DISCRIMINATOR_LR'] = 2e-4\n",
    "config['TRAIN']['GENERATOR_LR'] = 2e-4\n",
    "config['TRAIN']['ENCODER_LR'] = 2e-4\n",
    "# config['TRAIN']['RNN_GRAD_CLIP'] = 0.25\n",
    "# config['TRAIN']['FLAG'] = True\n",
    "# config['TRAIN']['NET_E'] = ''\n",
    "# config['TRAIN']['NET_G'] = ''\n",
    "# config['TRAIN']['B_NET_D'] = True\n",
    "config['TRAIN']['NF'] = 32\n",
    "config['TRAIN']['SMOOTH'] = {}\n",
    "config['TRAIN']['SMOOTH']['GAMMA1'] = 5.0\n",
    "config['TRAIN']['SMOOTH']['GAMMA1'] = 10.0\n",
    "config['TRAIN']['SMOOTH']['GAMMA1'] = 5.0\n",
    "config['TRAIN']['SMOOTH']['GAMMA1'] = 1.0\n",
    "\n",
    "config['GAN'] = {}\n",
    "config['GAN']['DF_DIM'] = 64\n",
    "config['GAN']['GF_DIM'] = 128\n",
    "config['GAN']['Z_DIM'] = 100\n",
    "config['GAN']['CONDITION_DIM'] = 100\n",
    "config['GAN']['R_NUM'] = 2\n",
    "config['GAN']['B_ATTENTION'] = True\n",
    "config['GAN']['B_DCGAN'] = True"
   ]
  },
  {
   "cell_type": "code",
   "execution_count": 10,
   "metadata": {
    "colab": {
     "base_uri": "https://localhost:8080/"
    },
    "id": "KwP8-C08NOE6",
    "outputId": "b8ecc4c5-395e-4194-ee20-a49f15feb06d"
   },
   "outputs": [
    {
     "name": "stdout",
     "output_type": "stream",
     "text": [
      "11363\n"
     ]
    }
   ],
   "source": [
    "imsize = 64\n",
    "\n",
    "# dataset and dataloader\n",
    "\n",
    "image_transform = transforms.Compose([\n",
    "    transforms.Resize(int(imsize * 76 / 64)),\n",
    "    transforms.RandomCrop(imsize),\n",
    "    transforms.RandomHorizontalFlip()])\n",
    "\n",
    "   \n",
    "dataset = RecipeDataset(split = 'train', split_size=0.9,\n",
    "                        embeddings=config['DATASET']['EMBEDDINGS_FILE'],\n",
    "                        embeddings_type=config['DATASET']['EMBEDDINGS_TYPE'])\n",
    "\n",
    "print(len(dataset))\n",
    "assert dataset\n",
    "dataloader = torch.utils.data.DataLoader(\n",
    "    dataset, batch_size=config['TRAIN']['BATCH_SIZE'], drop_last=True,\n",
    "    shuffle=True, num_workers=config['WORKERS'])"
   ]
  },
  {
   "cell_type": "code",
   "execution_count": 11,
   "metadata": {
    "id": "I79bOCvpNOE8"
   },
   "outputs": [],
   "source": [
    "def prepare_data(data):\n",
    "    imgs, embds, class_ids, keys = data\n",
    "\n",
    "    real_imgs = []\n",
    "    for i in range(len(imgs)):\n",
    "        if config['CUDA']:\n",
    "            real_imgs.append(Variable(imgs[i]).cuda())\n",
    "        else:\n",
    "            real_imgs.append(Variable(imgs[i]))\n",
    "\n",
    "    if config['CUDA']:\n",
    "        embds = Variable(embds).cuda()\n",
    "    else:\n",
    "        embds = Variable(embds)\n",
    "\n",
    "    return [real_imgs, embds, class_ids, keys]"
   ]
  },
  {
   "cell_type": "code",
   "execution_count": 36,
   "metadata": {
    "id": "Pv0kIEAqNOE-"
   },
   "outputs": [],
   "source": [
    "def train(dataloader, netG, netD, optimizerG, optimizerD, state_epoch, batch_size, device):\n",
    "    fake_images = Path('fake_images')\n",
    "    fake_images.mkdir(exist_ok=True)\n",
    "    for epoch in range(state_epoch + 1, config['TRAIN']['MAX_EPOCH'] + 1):\n",
    "        for step, data in enumerate(dataloader, 0):\n",
    "    \n",
    "            imags, sent_emb, class_ids, keys = prepare_data(data)\n",
    "#             hidden = text_encoder.init_hidden(batch_size)\n",
    "#             # words_embs: batch_size x nef x seq_len\n",
    "#             # sent_emb: batch_size x nef\n",
    "#             words_embs, sent_emb = text_encoder(captions, cap_lens, hidden)\n",
    "#             words_embs, sent_emb = words_embs.detach(), sent_emb.detach()\n",
    "\n",
    "            imgs=imags[0].to(device)\n",
    "            real_features = netD(imgs)\n",
    "            output = netD.COND_DNET(real_features, sent_emb)\n",
    "            errD_real = torch.nn.ReLU()(1.0 - output).mean()\n",
    "\n",
    "            output = netD.COND_DNET(real_features[:(batch_size - 1)], sent_emb[1:batch_size])\n",
    "            errD_mismatch = torch.nn.ReLU()(1.0 + output).mean()\n",
    "\n",
    "            # synthesize fake images\n",
    "            noise = torch.randn(batch_size, 100)\n",
    "            noise=noise.to(device)\n",
    "            fake = netG(noise,sent_emb)  \n",
    "            \n",
    "            # G does not need update with D\n",
    "            fake_features = netD(fake.detach()) \n",
    "\n",
    "            errD_fake = netD.COND_DNET(fake_features,sent_emb)\n",
    "            errD_fake = torch.nn.ReLU()(1.0 + errD_fake).mean()          \n",
    "\n",
    "            errD = errD_real + (errD_fake + errD_mismatch)/2.0\n",
    "            optimizerD.zero_grad()\n",
    "            optimizerG.zero_grad()\n",
    "            errD.backward()\n",
    "            optimizerD.step()\n",
    "\n",
    "            #MA-GP\n",
    "            interpolated = (imgs.data).requires_grad_(True)\n",
    "            sent_inter = (sent_emb.data).requires_grad_(True)\n",
    "            features = netD(interpolated)\n",
    "            out = netD.COND_DNET(features,sent_inter)\n",
    "            grads = torch.autograd.grad(outputs=out,\n",
    "                                    inputs=(interpolated,sent_inter),\n",
    "                                    grad_outputs=torch.ones(out.size()).cuda(),\n",
    "                                    retain_graph=True,\n",
    "                                    create_graph=True,\n",
    "                                    only_inputs=True)\n",
    "            grad0 = grads[0].view(grads[0].size(0), -1)\n",
    "            grad1 = grads[1].view(grads[1].size(0), -1)\n",
    "            grad = torch.cat((grad0,grad1),dim=1)                        \n",
    "            grad_l2norm = torch.sqrt(torch.sum(grad ** 2, dim=1))\n",
    "            d_loss_gp = torch.mean((grad_l2norm) ** 6)\n",
    "            d_loss = 2.0 * d_loss_gp\n",
    "            optimizerD.zero_grad()\n",
    "            optimizerG.zero_grad()\n",
    "            d_loss.backward()\n",
    "            optimizerD.step()\n",
    "            \n",
    "            # update G\n",
    "            features = netD(fake)\n",
    "            output = netD.COND_DNET(features,sent_emb)\n",
    "            errG = - output.mean()\n",
    "            optimizerG.zero_grad()\n",
    "            optimizerD.zero_grad()\n",
    "            errG.backward()\n",
    "            optimizerG.step()\n",
    "            if step % 50 == 0:\n",
    "                print('[%d/%d][%d/%d] Loss_D: %.3f Loss_G %.3f'\n",
    "                    % (epoch, config['TRAIN']['MAX_EPOCH'], step, len(dataloader), errD.item(), errG.item()))\n",
    "\n",
    "                path_image = f'{drive_path}/fake_images/{config[\"MODEL_NAME\"]}_{epoch}_{step}.png' \n",
    "                vutils.save_image(fake.data, path_image, normalize=True)\n",
    "\n",
    "        if epoch % 1 == 0:\n",
    "            path_netG = f'{drive_path}/models/{config[\"MODEL_NAME\"]}_netG_{epoch}.pth' \n",
    "            path_netD = f'{drive_path}/models/{config[\"MODEL_NAME\"]}_netD_{epoch}.pth' \n",
    "            torch.save(netG.state_dict(), path_netG)\n",
    "            torch.save(netD.state_dict(), path_netD)      "
   ]
  },
  {
   "cell_type": "code",
   "execution_count": 37,
   "metadata": {
    "id": "40vbxeneNOFA"
   },
   "outputs": [],
   "source": [
    "netG = NetG(config['TRAIN']['NF'], 100)\n",
    "netD = NetD(config['TRAIN']['NF'])\n",
    "state_epoch=0\n",
    "\n",
    "\n",
    "load_epoch = 2\n",
    "path_netG = f'{drive_path}/models/{config[\"MODEL_NAME\"]}_netG_{load_epoch}.pth' \n",
    "path_netD = f'{drive_path}/models/{config[\"MODEL_NAME\"]}_netD_{load_epoch}.pth' \n",
    "netG.load_state_dict(torch.load(path_netG))\n",
    "netD.load_state_dict(torch.load(path_netD))\n",
    "state_epoch = load_epoch\n",
    "\n",
    "\n",
    "netG.to(device)\n",
    "netD.to(device)\n",
    "optimizerG = torch.optim.Adam(netG.parameters(), lr=0.0001, betas=(0.0, 0.9))\n",
    "optimizerD = torch.optim.Adam(netD.parameters(), lr=0.0004, betas=(0.0, 0.9))"
   ]
  },
  {
   "cell_type": "code",
   "execution_count": null,
   "metadata": {
    "colab": {
     "base_uri": "https://localhost:8080/"
    },
    "id": "5NILpHmENOFC",
    "outputId": "a00278ae-14b6-45fd-ce6d-7a986cfd73f4"
   },
   "outputs": [
    {
     "name": "stdout",
     "output_type": "stream",
     "text": [
      "[3/512][0/710] Loss_D: 1.735 Loss_G 0.954\n"
     ]
    }
   ],
   "source": [
    "train(dataloader, netG, netD, optimizerG, optimizerD, state_epoch, config['TRAIN']['BATCH_SIZE'], device)"
   ]
  },
  {
   "cell_type": "code",
   "execution_count": null,
   "metadata": {},
   "outputs": [],
   "source": []
  }
 ],
 "metadata": {
  "accelerator": "GPU",
  "colab": {
   "collapsed_sections": [],
   "name": "DF_GAN_all_in_one.ipynb",
   "provenance": []
  },
  "kernelspec": {
   "display_name": "Python 3",
   "language": "python",
   "name": "python3"
  },
  "language_info": {
   "codemirror_mode": {
    "name": "ipython",
    "version": 3
   },
   "file_extension": ".py",
   "mimetype": "text/x-python",
   "name": "python",
   "nbconvert_exporter": "python",
   "pygments_lexer": "ipython3",
   "version": "3.8.5"
  }
 },
 "nbformat": 4,
 "nbformat_minor": 4
}
