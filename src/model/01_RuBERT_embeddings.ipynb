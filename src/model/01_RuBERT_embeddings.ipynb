{
 "cells": [
  {
   "cell_type": "code",
   "execution_count": 1,
   "metadata": {},
   "outputs": [],
   "source": [
    "import json\n",
    "import pickle\n",
    "from typing import List\n",
    "\n",
    "import deeppavlov\n",
    "import pandas as pd\n",
    "import torch\n",
    "import tqdm"
   ]
  },
  {
   "cell_type": "markdown",
   "metadata": {},
   "source": [
    "### 1) Загружаем RuBERT для эмбеддингов"
   ]
  },
  {
   "cell_type": "code",
   "execution_count": 2,
   "metadata": {},
   "outputs": [
    {
     "name": "stderr",
     "output_type": "stream",
     "text": [
      "2020-11-01 21:56:14.428 INFO in 'deeppavlov.download'['download'] at line 132: Skipped http://files.deeppavlov.ai/deeppavlov_data/bert/rubert_cased_L-12_H-768_A-12_pt.tar.gz download because of matching hashes\n",
      "[nltk_data] Downloading package punkt to /home/mikhail/nltk_data...\n",
      "[nltk_data]   Package punkt is already up-to-date!\n",
      "[nltk_data] Downloading package stopwords to\n",
      "[nltk_data]     /home/mikhail/nltk_data...\n",
      "[nltk_data]   Package stopwords is already up-to-date!\n",
      "[nltk_data] Downloading package perluniprops to\n",
      "[nltk_data]     /home/mikhail/nltk_data...\n",
      "[nltk_data]   Package perluniprops is already up-to-date!\n",
      "[nltk_data] Downloading package nonbreaking_prefixes to\n",
      "[nltk_data]     /home/mikhail/nltk_data...\n",
      "[nltk_data]   Package nonbreaking_prefixes is already up-to-date!\n"
     ]
    }
   ],
   "source": [
    "from deeppavlov.core.common.file import read_json\n",
    "from deeppavlov import build_model, configs\n",
    "\n",
    "path = configs.embedder.bert_embedder\n",
    "bert_config = read_json(path)\n",
    "bert_config['metadata']['variables']['BERT_PATH'] = '{DOWNLOADS_PATH}/bert_models/rubert_cased_L-12_H-768_A-12_pt'\n",
    "bert_config['metadata']['download'][0]['url'] = 'http://files.deeppavlov.ai/deeppavlov_data/bert/rubert_cased_L-12_H-768_A-12_pt.tar.gz'\n",
    "\n",
    "\n",
    "m = build_model(bert_config, download=True)"
   ]
  },
  {
   "cell_type": "code",
   "execution_count": 3,
   "metadata": {},
   "outputs": [
    {
     "name": "stdout",
     "output_type": "stream",
     "text": [
      "[['сегодня', 'мы', 'будем', 'готовить', 'офигенный', 'омлет'], ['второе', 'предложение']]\n",
      "[array([[ 0.16702184, -0.49682602, -0.04930846, ...,  0.6940326 ,\n",
      "        -0.35982978, -0.24980858],\n",
      "       [ 0.23081881, -0.26429278,  0.26739708, ..., -0.01405226,\n",
      "        -0.4066898 , -0.25012636],\n",
      "       [ 0.52555764, -0.14646043, -0.28406313, ..., -0.03530244,\n",
      "        -0.11871938, -0.46033123],\n",
      "       [ 0.8812914 , -0.05890733,  0.13671885, ...,  0.56064916,\n",
      "        -0.25506568,  0.11571673],\n",
      "       [ 0.25530246, -0.15127186,  0.02684454, ...,  0.1628736 ,\n",
      "         0.6039251 ,  0.15912056],\n",
      "       [ 0.60406923, -0.09385679, -0.5199474 , ...,  0.5782663 ,\n",
      "         0.03793397,  0.28421792]], dtype=float32), array([[ 0.42386067,  0.18435678,  0.712276  , ...,  0.06040264,\n",
      "        -0.31401923, -0.23336643],\n",
      "       [ 0.4937695 ,  0.3234263 ,  0.388501  , ..., -0.13395219,\n",
      "         0.26636454, -0.18983997]], dtype=float32)]\n",
      "[[0.95064837 0.06589679 0.57732314 ... 0.95861495 0.6039251  0.28421792]\n",
      " [0.4937695  0.35934925 0.712276   ... 0.06040264 0.26636454 0.3451163 ]]\n"
     ]
    }
   ],
   "source": [
    "texts = ['сегодня мы будем готовить офигенный омлет', 'второе предложение']\n",
    "tokens, token_embs, subtokens, subtoken_embs, sent_max_embs, sent_mean_embs, bert_pooler_outputs = m(texts)\n",
    "print(tokens)\n",
    "print(token_embs)\n",
    "print(sent_max_embs)"
   ]
  },
  {
   "cell_type": "markdown",
   "metadata": {},
   "source": [
    "### 2) Загруэаем наш датасет"
   ]
  },
  {
   "cell_type": "code",
   "execution_count": 4,
   "metadata": {},
   "outputs": [
    {
     "data": {
      "text/html": [
       "<div>\n",
       "<style scoped>\n",
       "    .dataframe tbody tr th:only-of-type {\n",
       "        vertical-align: middle;\n",
       "    }\n",
       "\n",
       "    .dataframe tbody tr th {\n",
       "        vertical-align: top;\n",
       "    }\n",
       "\n",
       "    .dataframe thead th {\n",
       "        text-align: right;\n",
       "    }\n",
       "</style>\n",
       "<table border=\"1\" class=\"dataframe\">\n",
       "  <thead>\n",
       "    <tr style=\"text-align: right;\">\n",
       "      <th></th>\n",
       "      <th>id</th>\n",
       "      <th>url</th>\n",
       "      <th>title</th>\n",
       "      <th>ingredients</th>\n",
       "      <th>steps</th>\n",
       "      <th>images</th>\n",
       "    </tr>\n",
       "  </thead>\n",
       "  <tbody>\n",
       "    <tr>\n",
       "      <th>0</th>\n",
       "      <td>158659</td>\n",
       "      <td>https://www.russianfood.com/recipes/recipe.php...</td>\n",
       "      <td>Запеканка из куриного филе с грибами и беконом...</td>\n",
       "      <td>Курица (любая часть) - 600 г|Бекон - 100 г|Сме...</td>\n",
       "      <td>Подготовьте все необходимые ингредиенты. Сыр м...</td>\n",
       "      <td>images/158659_0.jpg|images/158659_1.jpg|images...</td>\n",
       "    </tr>\n",
       "    <tr>\n",
       "      <th>1</th>\n",
       "      <td>146718</td>\n",
       "      <td>https://www.russianfood.com/recipes/recipe.php...</td>\n",
       "      <td>Сырные лепешки с картошкой (на сухой сковороде)</td>\n",
       "      <td>Для теста:|Сыр (твердый или полутвердый) - 250...</td>\n",
       "      <td>Как приготовить лепешки из сырного теста, с ка...</td>\n",
       "      <td>images/146718_0.jpg|images/146718_1.jpg|images...</td>\n",
       "    </tr>\n",
       "    <tr>\n",
       "      <th>2</th>\n",
       "      <td>134548</td>\n",
       "      <td>https://www.russianfood.com/recipes/recipe.php...</td>\n",
       "      <td>Торт без выпечки, с творогом и черносливом</td>\n",
       "      <td>Печенье песочное (сахарное) – 600 г|Творог – 3...</td>\n",
       "      <td>Как приготовить торт без выпечки, с творогом и...</td>\n",
       "      <td>images/134548_0.jpg|images/134548_1.jpg|images...</td>\n",
       "    </tr>\n",
       "    <tr>\n",
       "      <th>3</th>\n",
       "      <td>151796</td>\n",
       "      <td>https://www.russianfood.com/recipes/recipe.php...</td>\n",
       "      <td>Сырные булочки с помидорами и зелёным луком</td>\n",
       "      <td>Для теста:|Сахар - 1 ст. ложка|Яйцо - 1 шт.|ил...</td>\n",
       "      <td>Для теста будем использовать прессованные дрож...</td>\n",
       "      <td>images/151796_0.jpg|images/151796_1.jpg|images...</td>\n",
       "    </tr>\n",
       "    <tr>\n",
       "      <th>4</th>\n",
       "      <td>114586</td>\n",
       "      <td>https://www.russianfood.com/recipes/recipe.php...</td>\n",
       "      <td>Курица в сливках с черносливом</td>\n",
       "      <td>Куриные голени - 4 шт.|Лук репчатый (крупный) ...</td>\n",
       "      <td>Подготовьте все необходимые ингредиенты. Идеал...</td>\n",
       "      <td>images/114586_0.jpg|images/114586_1.jpg|images...</td>\n",
       "    </tr>\n",
       "  </tbody>\n",
       "</table>\n",
       "</div>"
      ],
      "text/plain": [
       "       id                                                url  \\\n",
       "0  158659  https://www.russianfood.com/recipes/recipe.php...   \n",
       "1  146718  https://www.russianfood.com/recipes/recipe.php...   \n",
       "2  134548  https://www.russianfood.com/recipes/recipe.php...   \n",
       "3  151796  https://www.russianfood.com/recipes/recipe.php...   \n",
       "4  114586  https://www.russianfood.com/recipes/recipe.php...   \n",
       "\n",
       "                                               title  \\\n",
       "0  Запеканка из куриного филе с грибами и беконом...   \n",
       "1    Сырные лепешки с картошкой (на сухой сковороде)   \n",
       "2         Торт без выпечки, с творогом и черносливом   \n",
       "3        Сырные булочки с помидорами и зелёным луком   \n",
       "4                     Курица в сливках с черносливом   \n",
       "\n",
       "                                         ingredients  \\\n",
       "0  Курица (любая часть) - 600 г|Бекон - 100 г|Сме...   \n",
       "1  Для теста:|Сыр (твердый или полутвердый) - 250...   \n",
       "2  Печенье песочное (сахарное) – 600 г|Творог – 3...   \n",
       "3  Для теста:|Сахар - 1 ст. ложка|Яйцо - 1 шт.|ил...   \n",
       "4  Куриные голени - 4 шт.|Лук репчатый (крупный) ...   \n",
       "\n",
       "                                               steps  \\\n",
       "0  Подготовьте все необходимые ингредиенты. Сыр м...   \n",
       "1  Как приготовить лепешки из сырного теста, с ка...   \n",
       "2  Как приготовить торт без выпечки, с творогом и...   \n",
       "3  Для теста будем использовать прессованные дрож...   \n",
       "4  Подготовьте все необходимые ингредиенты. Идеал...   \n",
       "\n",
       "                                              images  \n",
       "0  images/158659_0.jpg|images/158659_1.jpg|images...  \n",
       "1  images/146718_0.jpg|images/146718_1.jpg|images...  \n",
       "2  images/134548_0.jpg|images/134548_1.jpg|images...  \n",
       "3  images/151796_0.jpg|images/151796_1.jpg|images...  \n",
       "4  images/114586_0.jpg|images/114586_1.jpg|images...  "
      ]
     },
     "execution_count": 4,
     "metadata": {},
     "output_type": "execute_result"
    }
   ],
   "source": [
    "data = pd.read_csv('data/russianfood_filtred.csv')\n",
    "data.head()"
   ]
  },
  {
   "cell_type": "markdown",
   "metadata": {},
   "source": [
    "### 3) Вспомогательные функции для получения списка строк, по которым будем получать эмбеддинги"
   ]
  },
  {
   "cell_type": "code",
   "execution_count": 5,
   "metadata": {},
   "outputs": [],
   "source": [
    "'''Батч будет состоять из набора всех строк, для одного рецепта, для которых мы хотим получить эмбеддинги\n",
    "1) title - название рецепта\n",
    "2) ingredients - ингредиенты\n",
    "3) title_ingredients - название рецепта + ингредиенты\n",
    "4) steps - для каждого шага отдельный эмбеддинг\n",
    "5) all_steps - все шаги в виде одного текста\n",
    "6) title_steps - название и все шаги в виде текста\n",
    "7) all - название, ингредиенты и все шаги в виде одного текста\n",
    "'''\n",
    "\n",
    "def remove_period_if_needed(text: str) -> str:\n",
    "    return text if text[-1] != '.' else text[:-1]\n",
    "\n",
    "def add_period_if_needed(text: str) -> str:\n",
    "    return text if text[-1] == '.' else text + '.'\n",
    "\n",
    "def get_short_recipe_texts(recipe) -> List[str]:\n",
    "    ''' По рецепту (строке из датасета) возвращает список строк\n",
    "        - названия рецепта\n",
    "        - эмбеддинги ингредиентов\n",
    "        - отдельная строка для каждого шага\n",
    "    '''\n",
    "    texts = []\n",
    "    title = recipe['title']\n",
    "    # не хорошо будет, если название рецепта будет заканчиваться на точку\n",
    "    title = remove_period_if_needed(title)\n",
    "    texts.append(title)\n",
    "    \n",
    "    # ингредиенты будут списком через запятую\n",
    "    ingredients = ', '.join(recipe['ingredients'].split('|'))\n",
    "    ingredients = remove_period_if_needed(ingredients)\n",
    "    texts.append(ingredients)\n",
    "    \n",
    "    # название рецепта + ингредиенты\n",
    "    title_ingredients = '. '.join([title, ingredients])\n",
    "    texts.append(title_ingredients)\n",
    "    \n",
    "    # шаги отдельно\n",
    "    raw_steps = recipe['steps'].split('|')\n",
    "    \n",
    "    # Попадаются рецепты, где первый шаг пустой - добавил нейтральную фразу\n",
    "    empty_steps = 0\n",
    "    if raw_steps[0] == \"\":\n",
    "        raw_steps[0] = \"Подготовьте все ингредиенты\"\n",
    "        empty_steps += 1\n",
    "        \n",
    "    # Если есть пропуски внутри шагов - считаем, что 2 картинки относятся к предыдущему шагу\n",
    "    for i in range(1, len(raw_steps)):\n",
    "        if raw_steps[i] == \"\":\n",
    "            empty_steps += 1\n",
    "            raw_steps[i] = raw_steps[i - 1]\n",
    "    steps = list(map(remove_period_if_needed, raw_steps))\n",
    "    texts.extend(steps)\n",
    "    \n",
    "    return texts, empty_steps, len(raw_steps)\n",
    "\n",
    "\n",
    "def get_long_recipe_texts(recipe) -> List[str]:\n",
    "    ''' По рецепту (строке из датасета) возвращает список строк\n",
    "        - все шаги одной строкой\n",
    "        - название + все шаги одной строкой\n",
    "        - название + ингредиенты + все шаги одной строкой\n",
    "    '''\n",
    "    texts = []\n",
    "    \n",
    "    title = recipe['title']\n",
    "    # не хорошо будет, если название рецепта будет заканчиваться на точку\n",
    "    title = remove_period_if_needed(title)\n",
    "    \n",
    "    # ингредиенты будут списком через запятую\n",
    "    ingredients = ', '.join(recipe['ingredients'].split('|'))\n",
    "    ingredients = remove_period_if_needed(ingredients)\n",
    "    \n",
    "    # шаги отдельно\n",
    "    raw_steps = recipe['steps'].split('|')\n",
    "    \n",
    "    # Попадаются рецепты, где первый шаг пустой - добавил нейтральную фразу\n",
    "    if raw_steps[0] == \"\":\n",
    "        raw_steps[0] = \"Подготовьте все ингредиенты\"\n",
    "        \n",
    "    # Если есть пропуски внутри шагов - считаем, что 2 картинки относятся к предыдущему шагу\n",
    "    for i in range(1, len(raw_steps)):\n",
    "        if raw_steps[i] == \"\":\n",
    "            raw_steps[i] = raw_steps[i - 1]\n",
    "    steps = list(map(remove_period_if_needed, raw_steps))\n",
    "    \n",
    "    # шаги вместе\n",
    "    all_steps = '. '.join(steps)\n",
    "    texts.append(all_steps)\n",
    "\n",
    "    # название и все шаги в виде текста\n",
    "    title_all_steps = '. '.join([title, all_steps])\n",
    "    texts.append(title_all_steps)\n",
    "\n",
    "    # название, ингредиенты и все шаги в виде одного текста\n",
    "    whole_recipe = '. '.join([title, ingredients, all_steps])\n",
    "    texts.append(whole_recipe)\n",
    "    return texts\n"
   ]
  },
  {
   "cell_type": "markdown",
   "metadata": {},
   "source": [
    "### 4) Функции для получения эмбеддингов"
   ]
  },
  {
   "cell_type": "code",
   "execution_count": 6,
   "metadata": {},
   "outputs": [],
   "source": [
    "def get_embeddings_for_short_texts():   \n",
    "    ''' Функция возвращает 3 словаря, где ключи - id рецептов\n",
    "    max_embeddings и mean_embeddings - словари с max и mean embedding'ами:\n",
    "        каждый элемент - словарь:\n",
    "            'title': эмбеддинги названия рецепта (768,)\n",
    "            'ingredients': эмбеддинги ингредиентов (768,)\n",
    "            'title_ingredients': эмбеддинги строки название_ингредиенты (768,)\n",
    "            'steps': эмбеддинги каждого шага (n_steps, 768)\n",
    "    missing_steps - значения - пары (empty_steps, n_steps)\n",
    "    '''\n",
    "    max_embeddings = {} # Здесь будем собираеть max эмбеддинги\n",
    "    mean_embeddings = {} # Здесь будем собираеть mean эмбеддинги\n",
    "    missing_steps = {}\n",
    "    for i in tqdm.tqdm(range(len(data))):\n",
    "        recipe_max_embs = {}\n",
    "        recipe_mean_embs = {}\n",
    "        recipe = data.iloc[i]\n",
    "        # Embeddings для названия рецепта\n",
    "        texts, empty_steps, total_steps = get_short_recipe_texts(recipe)\n",
    "        missing_steps[recipe['id']] = (empty_steps, total_steps)\n",
    "        try:\n",
    "            _, _, _, _, sent_max_embs, sent_mean_embs, bert_pooler_outputs = m(texts)\n",
    "        except RuntimeError as e:\n",
    "            print(f'{i}: {e}')\n",
    "            continue\n",
    "        recipe_max_embs['title'] = sent_max_embs[0]\n",
    "        recipe_mean_embs['title'] = sent_mean_embs[0]\n",
    "\n",
    "        recipe_max_embs['ingredients'] = sent_max_embs[1]\n",
    "        recipe_mean_embs['ingredients'] = sent_mean_embs[1]\n",
    "\n",
    "        recipe_max_embs['title_ingredients'] = sent_max_embs[2]\n",
    "        recipe_mean_embs['title_ingredients'] = sent_mean_embs[2]\n",
    "\n",
    "        recipe_max_embs['steps'] = sent_max_embs[3:]\n",
    "        recipe_mean_embs['steps'] = sent_mean_embs[3:]\n",
    "\n",
    "        max_embeddings[recipe['id']] = recipe_max_embs\n",
    "        mean_embeddings[recipe['id']] = recipe_mean_embs\n",
    "    return max_embeddings, mean_embeddings, missing_steps"
   ]
  },
  {
   "cell_type": "code",
   "execution_count": 9,
   "metadata": {},
   "outputs": [],
   "source": [
    "def get_embeddings_for_long_texts():\n",
    "    ''' Функция возвращает 2 словаря, где ключи - id рецептов\n",
    "    max_embeddings и mean_embeddings - словари с max и mean embedding'ами:\n",
    "        каждый элемент - словарь:\n",
    "            'all_steps': эмбеддинги строки со всеми шагами (768,)\n",
    "            'title_all_steps': эмбеддинги строки название_все_шаги (768,)\n",
    "            'whole_recipe': эмбеддинги строки весь_рецепт (768,)\n",
    "    '''\n",
    "    max_embeddings = {} # Здесь будем собираеть max эмбеддинги\n",
    "    mean_embeddings = {} # Здесь будем собираеть mean эмбеддинги\n",
    "    for i in tqdm.tqdm(range(len(data))):\n",
    "        recipe_max_embs = {}\n",
    "        recipe_mean_embs = {}\n",
    "        recipe = data.iloc[i]\n",
    "        # Embeddings для названия рецепта\n",
    "        texts = get_long_recipe_texts(recipe)\n",
    "        \n",
    "        try:\n",
    "            _, _, _, _, sent_max_embs, sent_mean_embs, bert_pooler_outputs = m(texts)\n",
    "        except RuntimeError as e:\n",
    "            continue\n",
    "\n",
    "        recipe_max_embs['all_steps'] = sent_max_embs[0]\n",
    "        recipe_mean_embs['all_steps'] = sent_mean_embs[0]\n",
    "\n",
    "        recipe_max_embs['title_all_steps'] = sent_max_embs[1]\n",
    "        recipe_mean_embs['title_all_steps'] = sent_mean_embs[1]\n",
    "        \n",
    "        recipe_max_embs['whole_recipe'] = sent_max_embs[2]\n",
    "        recipe_mean_embs['whole_recipe'] = sent_mean_embs[2]\n",
    "\n",
    "        max_embeddings[recipe['id']] = recipe_max_embs\n",
    "        mean_embeddings[recipe['id']] = recipe_mean_embs\n",
    "    return max_embeddings, mean_embeddings"
   ]
  },
  {
   "cell_type": "markdown",
   "metadata": {},
   "source": [
    "### 5) Загружаем и сохраняем эмбеддинги"
   ]
  },
  {
   "cell_type": "code",
   "execution_count": 8,
   "metadata": {},
   "outputs": [
    {
     "name": "stderr",
     "output_type": "stream",
     "text": [
      "100%|██████████| 13830/13830 [10:52<00:00, 21.21it/s]\n"
     ]
    }
   ],
   "source": [
    "max_short_embeddings, mean_short_embeddings, missing_steps = get_embeddings_for_short_texts()"
   ]
  },
  {
   "cell_type": "code",
   "execution_count": 9,
   "metadata": {},
   "outputs": [],
   "source": [
    "with open('RuBERT_max_embeddings_short.pkl', 'wb') as f:\n",
    "    pickle.dump(max_short_embeddings, f)\n",
    "    \n",
    "with open('RuBERT_mean_embeddings_short.pkl', 'wb') as f:\n",
    "    pickle.dump(mean_short_embeddings, f)\n",
    "    \n",
    "with open('missing_steps.pkl', 'wb') as f:\n",
    "    pickle.dump(missing_steps, f)"
   ]
  },
  {
   "cell_type": "code",
   "execution_count": 10,
   "metadata": {},
   "outputs": [
    {
     "name": "stderr",
     "output_type": "stream",
     "text": [
      "100%|██████████| 13830/13830 [11:49<00:00, 19.48it/s]\n"
     ]
    }
   ],
   "source": [
    "max_long_embeddings, mean_long_embeddings = get_embeddings_for_long_texts()"
   ]
  },
  {
   "cell_type": "code",
   "execution_count": 11,
   "metadata": {},
   "outputs": [],
   "source": [
    "with open('RuBERT_max_embeddings_long.pkl', 'wb') as f:\n",
    "    pickle.dump(max_long_embeddings, f)\n",
    "    \n",
    "with open('RuBERT_mean_embeddings_long.pkl', 'wb') as f:\n",
    "    pickle.dump(mean_long_embeddings, f)"
   ]
  },
  {
   "cell_type": "code",
   "execution_count": 13,
   "metadata": {},
   "outputs": [
    {
     "name": "stdout",
     "output_type": "stream",
     "text": [
      "Получили эмбеддингов всего (short): 13830\n",
      "Получили эмбеддингов полных рецептов (long): 12667\n",
      "Процент длинных рецептов: 8.409255242227044\n"
     ]
    }
   ],
   "source": [
    "print(f'Получили эмбеддингов всего (short): {len(max_short_embeddings)}')\n",
    "print(f'Получили эмбеддингов полных рецептов (long): {len(max_long_embeddings)}')\n",
    "print(f'Процент длинных рецептов: {(1 - len(max_long_embeddings)/len(max_short_embeddings))*100}')"
   ]
  },
  {
   "cell_type": "code",
   "execution_count": 23,
   "metadata": {},
   "outputs": [],
   "source": [
    "with open('missing_steps.pkl', 'rb') as f:\n",
    "    tmp = pickle.load(f)"
   ]
  },
  {
   "cell_type": "markdown",
   "metadata": {},
   "source": [
    "### 6) Посмотрим сколько рецептов имеют пропуски"
   ]
  },
  {
   "cell_type": "code",
   "execution_count": 27,
   "metadata": {},
   "outputs": [],
   "source": [
    "any_missing = 0\n",
    "for k, v in missing_steps.items():\n",
    "    if v[0] > 0:\n",
    "        any_missing += 1"
   ]
  },
  {
   "cell_type": "code",
   "execution_count": 28,
   "metadata": {},
   "outputs": [
    {
     "data": {
      "text/plain": [
       "255"
      ]
     },
     "execution_count": 28,
     "metadata": {},
     "output_type": "execute_result"
    }
   ],
   "source": [
    "any_missing"
   ]
  },
  {
   "cell_type": "code",
   "execution_count": null,
   "metadata": {},
   "outputs": [],
   "source": []
  }
 ],
 "metadata": {
  "kernelspec": {
   "display_name": "Python 3",
   "language": "python",
   "name": "python3"
  },
  "language_info": {
   "codemirror_mode": {
    "name": "ipython",
    "version": 3
   },
   "file_extension": ".py",
   "mimetype": "text/x-python",
   "name": "python",
   "nbconvert_exporter": "python",
   "pygments_lexer": "ipython3",
   "version": "3.7.8"
  }
 },
 "nbformat": 4,
 "nbformat_minor": 4
}
