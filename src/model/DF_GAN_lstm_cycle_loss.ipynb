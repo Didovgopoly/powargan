{
 "cells": [
  {
   "cell_type": "code",
   "execution_count": 1,
   "metadata": {
    "colab": {
     "base_uri": "https://localhost:8080/"
    },
    "executionInfo": {
     "elapsed": 4370,
     "status": "ok",
     "timestamp": 1607083690679,
     "user": {
      "displayName": "Михаил Гуревич",
      "photoUrl": "https://lh3.googleusercontent.com/a-/AOh14GhvJvMsHb6F9BHyYOn4ECRaHUJayBc0hR396ce9=s64",
      "userId": "14320948074735629011"
     },
     "user_tz": -180
    },
    "id": "1KFPeIf7l2vl",
    "outputId": "cfc03e4a-14b9-44e7-836e-00fa7073a9ea"
   },
   "outputs": [
    {
     "name": "stdout",
     "output_type": "stream",
     "text": [
      "Collecting fpdf2\n",
      "\u001b[?25l  Downloading https://files.pythonhosted.org/packages/42/28/08c70ff4dc9bb1b0d803432a0b89511bff9c53902b9c81c67f9473dd0d39/fpdf2-2.0.6-py2.py3-none-any.whl (71kB)\n",
      "\r",
      "\u001b[K     |████▌                           | 10kB 21.1MB/s eta 0:00:01\r",
      "\u001b[K     |█████████                       | 20kB 26.8MB/s eta 0:00:01\r",
      "\u001b[K     |█████████████▋                  | 30kB 18.7MB/s eta 0:00:01\r",
      "\u001b[K     |██████████████████▏             | 40kB 12.3MB/s eta 0:00:01\r",
      "\u001b[K     |██████████████████████▊         | 51kB 7.8MB/s eta 0:00:01\r",
      "\u001b[K     |███████████████████████████▎    | 61kB 9.1MB/s eta 0:00:01\r",
      "\u001b[K     |███████████████████████████████▉| 71kB 9.1MB/s eta 0:00:01\r",
      "\u001b[K     |████████████████████████████████| 81kB 5.9MB/s \n",
      "\u001b[?25hRequirement already satisfied: Pillow<=8,>=4 in /usr/local/lib/python3.6/dist-packages (from fpdf2) (7.0.0)\n",
      "Requirement already satisfied: six in /usr/local/lib/python3.6/dist-packages (from fpdf2) (1.15.0)\n",
      "Requirement already satisfied: numpy in /usr/local/lib/python3.6/dist-packages (from fpdf2) (1.18.5)\n",
      "Requirement already satisfied: future in /usr/local/lib/python3.6/dist-packages (from fpdf2) (0.16.0)\n",
      "Installing collected packages: fpdf2\n",
      "Successfully installed fpdf2-2.0.6\n"
     ]
    }
   ],
   "source": [
    " !pip install fpdf2\n",
    " "
   ]
  },
  {
   "cell_type": "code",
   "execution_count": 2,
   "metadata": {
    "colab": {
     "base_uri": "https://localhost:8080/"
    },
    "executionInfo": {
     "elapsed": 3517,
     "status": "ok",
     "timestamp": 1607083691007,
     "user": {
      "displayName": "Михаил Гуревич",
      "photoUrl": "https://lh3.googleusercontent.com/a-/AOh14GhvJvMsHb6F9BHyYOn4ECRaHUJayBc0hR396ce9=s64",
      "userId": "14320948074735629011"
     },
     "user_tz": -180
    },
    "id": "6Y4QUbKZ37KZ",
    "outputId": "7692cb4b-3e15-4a00-a146-74a37e399ae8"
   },
   "outputs": [
    {
     "name": "stdout",
     "output_type": "stream",
     "text": [
      "--2020-12-04 12:08:10--  https://gitlab.com/didovgopoly/taste_it/-/raw/master/src/model/save_to_pdf.py\n",
      "Resolving gitlab.com (gitlab.com)... 172.65.251.78, 2606:4700:90:0:f22e:fbec:5bed:a9b9\n",
      "Connecting to gitlab.com (gitlab.com)|172.65.251.78|:443... connected.\n",
      "HTTP request sent, awaiting response... 200 OK\n",
      "Length: unspecified [text/plain]\n",
      "Saving to: ‘save_to_pdf.py’\n",
      "\n",
      "\r",
      "save_to_pdf.py          [<=>                 ]       0  --.-KB/s               \r",
      "save_to_pdf.py          [ <=>                ]   2.26K  --.-KB/s    in 0s      \n",
      "\n",
      "2020-12-04 12:08:10 (28.0 MB/s) - ‘save_to_pdf.py’ saved [2312]\n",
      "\n"
     ]
    }
   ],
   "source": [
    "!wget https://gitlab.com/didovgopoly/taste_it/-/raw/master/src/model/save_to_pdf.py"
   ]
  },
  {
   "cell_type": "code",
   "execution_count": 3,
   "metadata": {
    "colab": {
     "base_uri": "https://localhost:8080/"
    },
    "executionInfo": {
     "elapsed": 3189,
     "status": "ok",
     "timestamp": 1607083691009,
     "user": {
      "displayName": "Михаил Гуревич",
      "photoUrl": "https://lh3.googleusercontent.com/a-/AOh14GhvJvMsHb6F9BHyYOn4ECRaHUJayBc0hR396ce9=s64",
      "userId": "14320948074735629011"
     },
     "user_tz": -180
    },
    "id": "JyBxzZ53Zx_3",
    "outputId": "34761d65-8dd9-4390-85d5-a00a2f603f24"
   },
   "outputs": [
    {
     "name": "stdout",
     "output_type": "stream",
     "text": [
      "Fri Dec  4 12:08:10 2020       \n",
      "+-----------------------------------------------------------------------------+\n",
      "| NVIDIA-SMI 455.38       Driver Version: 418.67       CUDA Version: 10.1     |\n",
      "|-------------------------------+----------------------+----------------------+\n",
      "| GPU  Name        Persistence-M| Bus-Id        Disp.A | Volatile Uncorr. ECC |\n",
      "| Fan  Temp  Perf  Pwr:Usage/Cap|         Memory-Usage | GPU-Util  Compute M. |\n",
      "|                               |                      |               MIG M. |\n",
      "|===============================+======================+======================|\n",
      "|   0  Tesla P100-PCIE...  Off  | 00000000:00:04.0 Off |                    0 |\n",
      "| N/A   29C    P0    26W / 250W |      0MiB / 16280MiB |      0%      Default |\n",
      "|                               |                      |                 ERR! |\n",
      "+-------------------------------+----------------------+----------------------+\n",
      "                                                                               \n",
      "+-----------------------------------------------------------------------------+\n",
      "| Processes:                                                                  |\n",
      "|  GPU   GI   CI        PID   Type   Process name                  GPU Memory |\n",
      "|        ID   ID                                                   Usage      |\n",
      "|=============================================================================|\n",
      "|  No running processes found                                                 |\n",
      "+-----------------------------------------------------------------------------+\n"
     ]
    }
   ],
   "source": [
    "!nvidia-smi"
   ]
  },
  {
   "cell_type": "code",
   "execution_count": 4,
   "metadata": {
    "colab": {
     "base_uri": "https://localhost:8080/"
    },
    "executionInfo": {
     "elapsed": 2788,
     "status": "ok",
     "timestamp": 1607083696500,
     "user": {
      "displayName": "Михаил Гуревич",
      "photoUrl": "https://lh3.googleusercontent.com/a-/AOh14GhvJvMsHb6F9BHyYOn4ECRaHUJayBc0hR396ce9=s64",
      "userId": "14320948074735629011"
     },
     "user_tz": -180
    },
    "id": "vSTwg1N4NOEX",
    "outputId": "930a6971-c00e-4f38-f0c8-9b5fe7d67f63"
   },
   "outputs": [
    {
     "data": {
      "text/plain": [
       "<module 'save_to_pdf' from '/content/save_to_pdf.py'>"
      ]
     },
     "execution_count": 4,
     "metadata": {
      "tags": []
     },
     "output_type": "execute_result"
    }
   ],
   "source": [
    "from pathlib import Path\n",
    "import pickle\n",
    "import random\n",
    "from collections import OrderedDict\n",
    "import os\n",
    "\n",
    "from matplotlib.pyplot import imshow\n",
    "import numpy as np\n",
    "import pandas as pd\n",
    "from PIL import Image\n",
    "import torch\n",
    "from torch.autograd import Variable\n",
    "import torch.nn as nn\n",
    "import torch.backends.cudnn as cudnn\n",
    "import torch.utils.data as data\n",
    "import torchvision.transforms as transforms\n",
    "import torchvision.utils as vutils\n",
    "from torchvision import models\n",
    "import torch.nn.functional as F\n",
    "import save_to_pdf\n",
    "import importlib\n",
    "from importlib import reload\n",
    "\n",
    "reload(save_to_pdf)"
   ]
  },
  {
   "cell_type": "code",
   "execution_count": 5,
   "metadata": {
    "colab": {
     "base_uri": "https://localhost:8080/"
    },
    "executionInfo": {
     "elapsed": 19587,
     "status": "ok",
     "timestamp": 1607083716091,
     "user": {
      "displayName": "Михаил Гуревич",
      "photoUrl": "https://lh3.googleusercontent.com/a-/AOh14GhvJvMsHb6F9BHyYOn4ECRaHUJayBc0hR396ce9=s64",
      "userId": "14320948074735629011"
     },
     "user_tz": -180
    },
    "id": "JwL9TxOp0zoj",
    "outputId": "8bd1f793-f831-468a-ee63-1a6d19ce4081"
   },
   "outputs": [
    {
     "name": "stdout",
     "output_type": "stream",
     "text": [
      "Mounted at /content/drive\n"
     ]
    }
   ],
   "source": [
    "from google.colab import drive\n",
    "drive.mount('/content/drive')\n",
    "drive_path = '/content/drive/My Drive/text2image'"
   ]
  },
  {
   "cell_type": "code",
   "execution_count": 6,
   "metadata": {
    "colab": {
     "base_uri": "https://localhost:8080/"
    },
    "executionInfo": {
     "elapsed": 203559,
     "status": "ok",
     "timestamp": 1607083921514,
     "user": {
      "displayName": "Михаил Гуревич",
      "photoUrl": "https://lh3.googleusercontent.com/a-/AOh14GhvJvMsHb6F9BHyYOn4ECRaHUJayBc0hR396ce9=s64",
      "userId": "14320948074735629011"
     },
     "user_tz": -180
    },
    "id": "S9Tnj0SvNOEe",
    "outputId": "dc2ff1fc-c0a3-46dd-a8f4-44fafd3dfe0b"
   },
   "outputs": [
    {
     "name": "stdout",
     "output_type": "stream",
     "text": [
      "--2020-12-04 12:09:09--  https://raw.githubusercontent.com/matthuisman/gdrivedl/master/gdrivedl.py\n",
      "Resolving raw.githubusercontent.com (raw.githubusercontent.com)... 151.101.0.133, 151.101.64.133, 151.101.128.133, ...\n",
      "Connecting to raw.githubusercontent.com (raw.githubusercontent.com)|151.101.0.133|:443... connected.\n",
      "HTTP request sent, awaiting response... 200 OK\n",
      "Length: 6773 (6.6K) [text/plain]\n",
      "Saving to: ‘GDriveDL.py’\n",
      "\n",
      "\r",
      "GDriveDL.py           0%[                    ]       0  --.-KB/s               \r",
      "GDriveDL.py         100%[===================>]   6.61K  --.-KB/s    in 0s      \n",
      "\n",
      "2020-12-04 12:09:09 (98.5 MB/s) - ‘GDriveDL.py’ saved [6773/6773]\n",
      "\n",
      "data/eda_ru.zip\n",
      "[==================================================] 2257.57MB/2257.57MB\n",
      "CPU times: user 13.4 s, sys: 3.89 s, total: 17.3 s\n",
      "Wall time: 3min 22s\n"
     ]
    }
   ],
   "source": [
    "%%time\n",
    "os.makedirs('data', exist_ok=True)\n",
    "os.makedirs('data/embeddings', exist_ok=True)\n",
    "os.makedirs('/content/drive/My Drive/text2image/fake_images', exist_ok=True)\n",
    "os.makedirs('/content/drive/My Drive/text2image/fake_images/tmp', exist_ok=True)\n",
    "os.makedirs('/content/drive/My Drive/text2image/models', exist_ok=True)\n",
    "if not os.path.exists('GDriveDL.py'):\n",
    "    !wget https://raw.githubusercontent.com/matthuisman/gdrivedl/master/gdrivedl.py -O GDriveDL.py\n",
    "\n",
    "\n",
    "if not os.path.exists('data/eda_ru.zip'): \n",
    "    !python GDriveDL.py https://drive.google.com/file/d/1CNIbj8_OuxQD74zt6JU4BUI8ngctutl9/view?usp=sharing data\n",
    "    !unzip -q data/eda_ru.zip -d data\n",
    "# if not os.path.exists('df_gan.zip'):        \n",
    "#     !python GDriveDL.py https://drive.google.com/open?id=1KKAqwSbHd-_qMpOAjYdbBRCh4M-HbRTH .\n",
    "#     !unzip -q df_gan.zip"
   ]
  },
  {
   "cell_type": "code",
   "execution_count": 7,
   "metadata": {
    "executionInfo": {
     "elapsed": 203255,
     "status": "ok",
     "timestamp": 1607083921516,
     "user": {
      "displayName": "Михаил Гуревич",
      "photoUrl": "https://lh3.googleusercontent.com/a-/AOh14GhvJvMsHb6F9BHyYOn4ECRaHUJayBc0hR396ce9=s64",
      "userId": "14320948074735629011"
     },
     "user_tz": -180
    },
    "id": "0gdypgitpViA"
   },
   "outputs": [],
   "source": [
    "def load_resnet(food_space_dim=512):\n",
    "    resnet_fe = models.resnet50(pretrained=False)\n",
    "    num_ftrs = resnet_fe.fc.in_features\n",
    "    resnet_fe.fc = nn.Linear(num_ftrs, 101) # Чтобы загрузить веса обученной ранее модели модели\n",
    "    resnet_fe.fc = nn.Linear(num_ftrs, food_space_dim)\n",
    "    return resnet_fe"
   ]
  },
  {
   "cell_type": "markdown",
   "metadata": {
    "id": "TaKUwBDoNOEl"
   },
   "source": [
    "### 1) Dataset"
   ]
  },
  {
   "cell_type": "code",
   "execution_count": 8,
   "metadata": {
    "executionInfo": {
     "elapsed": 200780,
     "status": "ok",
     "timestamp": 1607083921519,
     "user": {
      "displayName": "Михаил Гуревич",
      "photoUrl": "https://lh3.googleusercontent.com/a-/AOh14GhvJvMsHb6F9BHyYOn4ECRaHUJayBc0hR396ce9=s64",
      "userId": "14320948074735629011"
     },
     "user_tz": -180
    },
    "id": "Gp0WqatPNOEm"
   },
   "outputs": [],
   "source": [
    "class RecipeDataset(data.Dataset):\n",
    "    def __init__(self, \n",
    "                 data_dir='data', \n",
    "                 csv_filename='eda_ru_filtered.csv',\n",
    "                 use_last_image=False,\n",
    "                 base_size=64,\n",
    "                 transform=None, target_transform=None):\n",
    "        self.transform = transform\n",
    "        self.norm = transforms.Compose([\n",
    "            transforms.ToTensor(),\n",
    "            transforms.Normalize((0.5, 0.5, 0.5), (0.5, 0.5, 0.5))])\n",
    "        self.target_transform = target_transform\n",
    "        \n",
    "        self.data_dir = Path(data_dir)\n",
    "        self.csv_filename = csv_filename\n",
    "        self.use_last_image = use_last_image\n",
    "        \n",
    "        self.data = pd.read_csv(self.data_dir / self.csv_filename, usecols=['id', 'images', 'title'])\n",
    "        self.ids = self.data['id'].values\n",
    "        self.images = self.data['images'].values\n",
    "        self.titles = self.data['title'].values\n",
    "        \n",
    "        self.embeddings = self.load_embeddings()\n",
    "\n",
    "    \n",
    "    def load_embeddings(self):\n",
    "\n",
    "        embeddings = []\n",
    "\n",
    "        for idx in self.ids:\n",
    "            emb = np.load(f'{self.data_dir}/embeddings/lstm/{idx}.npz')['arr_0']\n",
    "            # title_emb = np.load(f'{self.data_dir}/embeddings/title/{idx}.npz')['arr_0']\n",
    "            # ingredients_emb = np.load(f'{self.data_dir}/embeddings/ingredients/{idx}.npz')['arr_0']\n",
    "            # steps_emb = np.load(f'{self.data_dir}/embeddings/steps/{idx}.npz')['arr_0']\n",
    "            # all_recipe_emb = np.load(f'{self.data_dir}/embeddings/all_recipe/{idx}.npz')['arr_0']\n",
    "\n",
    "            embeddings.append(\n",
    "                # np.concatenate([title_emb, ingredients_emb], axis=1)\n",
    "                [emb]\n",
    "            )\n",
    "\n",
    "        return np.array(embeddings)\n",
    "\n",
    "\n",
    "    def __getitem__(self, idx):\n",
    "        #\n",
    "        image_pathes = self.images[idx].split('|')\n",
    "        if self.use_last_image:\n",
    "            img_path = image_pathes[-1]\n",
    "        else:\n",
    "            img_path = random.choice(image_pathes)\n",
    "       \n",
    "        # Загружаем изображение\n",
    "        img = Image.open(self.data_dir / img_path).convert('RGB')\n",
    "        width, height = img.size\n",
    "        if self.transform is not None:\n",
    "            img = self.transform(img)\n",
    "        imgs = []\n",
    "        imgs.append(self.norm(img))\n",
    "        \n",
    "        # ИСПРАВИТЬ - временно для того чтобы проверить работоспособность в целом\n",
    "        emb = self.embeddings[idx, :][0]\n",
    "        \n",
    "        return imgs, emb, self.titles[idx]\n",
    "    \n",
    "    def __len__(self):\n",
    "        return len(self.ids)"
   ]
  },
  {
   "cell_type": "code",
   "execution_count": 9,
   "metadata": {
    "executionInfo": {
     "elapsed": 200676,
     "status": "ok",
     "timestamp": 1607083921850,
     "user": {
      "displayName": "Михаил Гуревич",
      "photoUrl": "https://lh3.googleusercontent.com/a-/AOh14GhvJvMsHb6F9BHyYOn4ECRaHUJayBc0hR396ce9=s64",
      "userId": "14320948074735629011"
     },
     "user_tz": -180
    },
    "id": "bRpv0y1Xpc47"
   },
   "outputs": [],
   "source": [
    "EMB_SIZE = 512 # 768 * 2\n",
    "\n",
    "class NetG(nn.Module):\n",
    "    def __init__(self, ngf=64, nz=100):\n",
    "        super(NetG, self).__init__()\n",
    "\n",
    "        # self.fc_embedding = nn.Linear(768, 256)\n",
    "\n",
    "        self.ngf = ngf\n",
    "\n",
    "        # layer1输入的是一个100x1x1的随机噪声, 输出尺寸(ngf*8)x4x4\n",
    "        self.fc = nn.Linear(nz, ngf*8*4*4)\n",
    "        self.block0 = G_Block(ngf * 8, ngf * 8)#4x4\n",
    "        self.block1 = G_Block(ngf * 8, ngf * 8)#4x4\n",
    "        self.block2 = G_Block(ngf * 8, ngf * 8)#8x8\n",
    "        self.block3 = G_Block(ngf * 8, ngf * 8)#16x16\n",
    "        self.block4 = G_Block(ngf * 8, ngf * 4)#32x32\n",
    "        # self.block5 = G_Block(ngf * 4, ngf * 2)#64x64\n",
    "        # self.block6 = G_Block(ngf * 2, ngf * 1)#128x128\n",
    "        self.block5 = G_Block(ngf * 4, ngf * 1)\n",
    "\n",
    "        self.conv_img = nn.Sequential(\n",
    "            nn.LeakyReLU(0.2,inplace=True),\n",
    "            nn.Conv2d(ngf, 3, 3, 1, 1),\n",
    "            nn.Tanh(),\n",
    "        )\n",
    "\n",
    "    def forward(self, x, c):\n",
    "\n",
    "        # c = self.fc_embedding(c)\n",
    "\n",
    "        out = self.fc(x)\n",
    "        out = out.view(x.size(0), 8*self.ngf, 4, 4)\n",
    "        out = self.block0(out,c)\n",
    "\n",
    "        out = F.interpolate(out, scale_factor=2)\n",
    "        out = self.block1(out,c)\n",
    "\n",
    "        out = F.interpolate(out, scale_factor=2)\n",
    "        out = self.block2(out,c)\n",
    "\n",
    "        out = F.interpolate(out, scale_factor=2)\n",
    "        out = self.block3(out,c)\n",
    "\n",
    "        out = F.interpolate(out, scale_factor=2)\n",
    "        out = self.block4(out,c)\n",
    "\n",
    "        out = F.interpolate(out, scale_factor=2)\n",
    "        out = self.block5(out,c)\n",
    "        # out = F.interpolate(out, scale_factor=2)\n",
    "        # out = self.block6(out,c)\n",
    "\n",
    "        out = self.conv_img(out)\n",
    "\n",
    "        return out\n",
    "\n",
    "\n",
    "class G_Block(nn.Module):\n",
    "\n",
    "    def __init__(self, in_ch, out_ch):\n",
    "        super(G_Block, self).__init__()\n",
    "\n",
    "        self.learnable_sc = in_ch != out_ch \n",
    "        self.c1 = nn.Conv2d(in_ch, out_ch, 3, 1, 1)\n",
    "        self.c2 = nn.Conv2d(out_ch, out_ch, 3, 1, 1)\n",
    "        self.affine0 = affine(in_ch)\n",
    "        self.affine1 = affine(in_ch)\n",
    "        self.affine2 = affine(out_ch)\n",
    "        self.affine3 = affine(out_ch)\n",
    "        self.gamma = nn.Parameter(torch.zeros(1))\n",
    "        if self.learnable_sc:\n",
    "            self.c_sc = nn.Conv2d(in_ch,out_ch, 1, stride=1, padding=0)\n",
    "\n",
    "    def forward(self, x, y=None):\n",
    "        return self.shortcut(x) + self.gamma * self.residual(x, y)\n",
    "\n",
    "    def shortcut(self, x):\n",
    "        if self.learnable_sc:\n",
    "            x = self.c_sc(x)\n",
    "        return x\n",
    "\n",
    "    def residual(self, x, y=None):\n",
    "        h = self.affine0(x, y)\n",
    "        h = nn.LeakyReLU(0.2,inplace=True)(h)\n",
    "        h = self.affine1(h, y)\n",
    "        h = nn.LeakyReLU(0.2,inplace=True)(h)\n",
    "        h = self.c1(h)\n",
    "        \n",
    "        h = self.affine2(h, y)\n",
    "        h = nn.LeakyReLU(0.2,inplace=True)(h)\n",
    "        h = self.affine3(h, y)\n",
    "        h = nn.LeakyReLU(0.2,inplace=True)(h)\n",
    "        return self.c2(h)\n",
    "\n",
    "\n",
    "\n",
    "class affine(nn.Module):\n",
    "\n",
    "    def __init__(self, num_features):\n",
    "        super(affine, self).__init__()\n",
    "\n",
    "        self.fc_gamma = nn.Sequential(OrderedDict([\n",
    "            ('linear1',nn.Linear(EMB_SIZE, 256)),\n",
    "            ('relu1',nn.ReLU(inplace=True)),\n",
    "            ('linear2',nn.Linear(256, num_features)),\n",
    "            ]))\n",
    "        self.fc_beta = nn.Sequential(OrderedDict([\n",
    "            ('linear1',nn.Linear(EMB_SIZE, 256)),\n",
    "            ('relu1',nn.ReLU(inplace=True)),\n",
    "            ('linear2',nn.Linear(256, num_features)),\n",
    "            ]))\n",
    "        self._initialize()\n",
    "\n",
    "    def _initialize(self):\n",
    "        nn.init.zeros_(self.fc_gamma.linear2.weight.data)\n",
    "        nn.init.ones_(self.fc_gamma.linear2.bias.data)\n",
    "        nn.init.zeros_(self.fc_beta.linear2.weight.data)\n",
    "        nn.init.zeros_(self.fc_beta.linear2.bias.data)\n",
    "\n",
    "    def forward(self, x, y=None):\n",
    "\n",
    "        weight = self.fc_gamma(y)\n",
    "        bias = self.fc_beta(y)        \n",
    "\n",
    "        if weight.dim() == 1:\n",
    "            weight = weight.unsqueeze(0)\n",
    "        if bias.dim() == 1:\n",
    "            bias = bias.unsqueeze(0)\n",
    "\n",
    "        size = x.size()\n",
    "        weight = weight.unsqueeze(-1).unsqueeze(-1).expand(size)\n",
    "        bias = bias.unsqueeze(-1).unsqueeze(-1).expand(size)\n",
    "        return weight * x + bias\n",
    "\n",
    "\n",
    "class D_GET_LOGITS(nn.Module):\n",
    "    def __init__(self, ndf):\n",
    "        super(D_GET_LOGITS, self).__init__()\n",
    "        self.df_dim = ndf\n",
    "        # self.fc_embedding = nn.Linear(768, 256)\n",
    "\n",
    "        self.joint_conv = nn.Sequential(\n",
    "            nn.Conv2d(ndf * 16 + EMB_SIZE, ndf * 2, 3, 1, 1, bias=False),\n",
    "            nn.LeakyReLU(0.2,inplace=True),\n",
    "            nn.Conv2d(ndf * 2, 1, 4, 1, 0, bias=False),\n",
    "        )\n",
    "\n",
    "    def forward(self, out, y):\n",
    "\n",
    "        # y = self.fc_embedding(y)\n",
    "        \n",
    "        y = y.view(-1, EMB_SIZE, 1, 1)\n",
    "        y = y.repeat(1, 1, 4, 4)\n",
    "        h_c_code = torch.cat((out, y), 1)\n",
    "        out = self.joint_conv(h_c_code)\n",
    "        return out\n",
    "\n",
    "\n",
    "class NetD(nn.Module):\n",
    "    def __init__(self, ndf):\n",
    "        super(NetD, self).__init__()\n",
    "\n",
    "        self.conv_img = nn.Conv2d(3, ndf, 3, 1, 1)#128\n",
    "        self.block0 = resD(ndf * 1, ndf * 2)#64\n",
    "        self.block1 = resD(ndf * 2, ndf * 4)#32\n",
    "        self.block2 = resD(ndf * 4, ndf * 8)#16\n",
    "        self.block3 = resD(ndf * 8, ndf * 16)#8\n",
    "        self.block4 = resD(ndf * 16, ndf * 16)#4\n",
    "        self.block5 = resD(ndf * 16, ndf * 16)#4\n",
    "\n",
    "        self.COND_DNET = D_GET_LOGITS(ndf)\n",
    "\n",
    "    def forward(self,x):\n",
    "        \n",
    "        out = self.conv_img(x)\n",
    "        out = self.block0(out)\n",
    "        out = self.block1(out)\n",
    "        out = self.block2(out)\n",
    "        out = self.block3(out)\n",
    "        out = self.block4(out)\n",
    "        # out = self.block5(out)\n",
    "\n",
    "\n",
    "        return out\n",
    "\n",
    "\n",
    "class resD(nn.Module):\n",
    "    def __init__(self, fin, fout, downsample=True):\n",
    "        super().__init__()\n",
    "        self.downsample = downsample\n",
    "        self.learned_shortcut = (fin != fout)\n",
    "        self.conv_r = nn.Sequential(\n",
    "            nn.Conv2d(fin, fout, 4, 2, 1, bias=False),\n",
    "            nn.LeakyReLU(0.2, inplace=True),\n",
    "            \n",
    "            nn.Conv2d(fout, fout, 3, 1, 1, bias=False),\n",
    "            nn.LeakyReLU(0.2, inplace=True),\n",
    "        )\n",
    "\n",
    "        self.conv_s = nn.Conv2d(fin,fout, 1, stride=1, padding=0)\n",
    "        self.gamma = nn.Parameter(torch.zeros(1))\n",
    "\n",
    "    def forward(self, x, c=None):\n",
    "        return self.shortcut(x)+self.gamma*self.residual(x)\n",
    "\n",
    "    def shortcut(self, x):\n",
    "        if self.learned_shortcut:\n",
    "            x = self.conv_s(x)\n",
    "        if self.downsample:\n",
    "            return F.avg_pool2d(x, 2)\n",
    "        return x\n",
    "\n",
    "    def residual(self, x):\n",
    "        return self.conv_r(x)"
   ]
  },
  {
   "cell_type": "markdown",
   "metadata": {
    "id": "PoXn6sHUNOEw"
   },
   "source": [
    "## 2) Обучение"
   ]
  },
  {
   "cell_type": "code",
   "execution_count": 10,
   "metadata": {
    "colab": {
     "base_uri": "https://localhost:8080/"
    },
    "executionInfo": {
     "elapsed": 199914,
     "status": "ok",
     "timestamp": 1607083921863,
     "user": {
      "displayName": "Михаил Гуревич",
      "photoUrl": "https://lh3.googleusercontent.com/a-/AOh14GhvJvMsHb6F9BHyYOn4ECRaHUJayBc0hR396ce9=s64",
      "userId": "14320948074735629011"
     },
     "user_tz": -180
    },
    "id": "8uRiK_leNOEw",
    "outputId": "dfeb10b5-1631-4258-cd6d-95428338b303"
   },
   "outputs": [
    {
     "name": "stdout",
     "output_type": "stream",
     "text": [
      "seed now is :  100\n"
     ]
    }
   ],
   "source": [
    "seed = 100\n",
    "print(\"seed now is : \", seed)\n",
    "random.seed(seed)\n",
    "np.random.seed(seed)\n",
    "torch.manual_seed(seed)\n",
    "torch.cuda.manual_seed_all(seed)\n",
    "\n",
    "device = torch.device(\"cuda\") if torch.cuda.is_available() else torch.device('cpu')\n",
    "cudnn.benchmark = True"
   ]
  },
  {
   "cell_type": "code",
   "execution_count": 11,
   "metadata": {
    "colab": {
     "base_uri": "https://localhost:8080/"
    },
    "executionInfo": {
     "elapsed": 199512,
     "status": "ok",
     "timestamp": 1607083921865,
     "user": {
      "displayName": "Михаил Гуревич",
      "photoUrl": "https://lh3.googleusercontent.com/a-/AOh14GhvJvMsHb6F9BHyYOn4ECRaHUJayBc0hR396ce9=s64",
      "userId": "14320948074735629011"
     },
     "user_tz": -180
    },
    "id": "swNJBDvTNOE0",
    "outputId": "42b9a5ea-9eeb-4c2c-d392-81cc728ccf4e"
   },
   "outputs": [
    {
     "data": {
      "text/plain": [
       "device(type='cuda')"
      ]
     },
     "execution_count": 11,
     "metadata": {
      "tags": []
     },
     "output_type": "execute_result"
    }
   ],
   "source": [
    "device"
   ]
  },
  {
   "cell_type": "markdown",
   "metadata": {
    "id": "xfOT0k0lNOE2"
   },
   "source": [
    "#### Config:"
   ]
  },
  {
   "cell_type": "code",
   "execution_count": 12,
   "metadata": {
    "executionInfo": {
     "elapsed": 198715,
     "status": "ok",
     "timestamp": 1607083921866,
     "user": {
      "displayName": "Михаил Гуревич",
      "photoUrl": "https://lh3.googleusercontent.com/a-/AOh14GhvJvMsHb6F9BHyYOn4ECRaHUJayBc0hR396ce9=s64",
      "userId": "14320948074735629011"
     },
     "user_tz": -180
    },
    "id": "KZbbtxOjNOE3"
   },
   "outputs": [],
   "source": [
    "config = {}\n",
    "\n",
    "config['MODEL_NAME'] = 'eda_ru_df_gan_lstm_cycle_loss_128'\n",
    "\n",
    "config['CUDA'] = True\n",
    "config['WORKERS'] = 4\n",
    "\n",
    "config['loss'] = 'hinge'\n",
    "config['BASE_SIZE'] = 64\n",
    "\n",
    "# config['DATASET'] = {}\n",
    "# config['DATASET']['EMBEDDINGS_FILE'] = 'RuBERT_mean_embeddings_long'\n",
    "# config['DATASET']['EMBEDDINGS_TYPE'] = 'whole_recipe'\n",
    "\n",
    "\n",
    "config['IMAGE_SIZE'] = 128\n",
    "config['TRAIN'] = {}\n",
    "config['TRAIN']['BATCH_SIZE'] = 32\n",
    "config['TRAIN']['MAX_EPOCH'] = 512\n",
    "config['TRAIN']['SNAPSHOT_INTERVAL'] = 2000\n",
    "config['TRAIN']['DISCRIMINATOR_LR'] = 2e-4\n",
    "config['TRAIN']['GENERATOR_LR'] = 2e-4\n",
    "config['TRAIN']['ENCODER_LR'] = 2e-4\n",
    "# config['TRAIN']['RNN_GRAD_CLIP'] = 0.25\n",
    "# config['TRAIN']['FLAG'] = True\n",
    "# config['TRAIN']['NET_E'] = ''\n",
    "# config['TRAIN']['NET_G'] = ''\n",
    "# config['TRAIN']['B_NET_D'] = True\n",
    "config['TRAIN']['NF'] = 32\n",
    "config['TRAIN']['SMOOTH'] = {}\n",
    "config['TRAIN']['SMOOTH']['GAMMA1'] = 5.0\n",
    "config['TRAIN']['SMOOTH']['GAMMA1'] = 10.0\n",
    "config['TRAIN']['SMOOTH']['GAMMA1'] = 5.0\n",
    "config['TRAIN']['SMOOTH']['GAMMA1'] = 1.0\n",
    "config['TRAIN']['CYCLE_LOSS_COEFF'] = 1.0\n",
    "\n",
    "config['GAN'] = {}\n",
    "config['GAN']['DF_DIM'] = 64\n",
    "config['GAN']['GF_DIM'] = 128\n",
    "config['GAN']['Z_DIM'] = 100\n",
    "config['GAN']['CONDITION_DIM'] = 100\n",
    "config['GAN']['R_NUM'] = 2\n",
    "config['GAN']['B_ATTENTION'] = True\n",
    "config['GAN']['B_DCGAN'] = True"
   ]
  },
  {
   "cell_type": "code",
   "execution_count": 13,
   "metadata": {
    "colab": {
     "base_uri": "https://localhost:8080/"
    },
    "executionInfo": {
     "elapsed": 210268,
     "status": "ok",
     "timestamp": 1607083933795,
     "user": {
      "displayName": "Михаил Гуревич",
      "photoUrl": "https://lh3.googleusercontent.com/a-/AOh14GhvJvMsHb6F9BHyYOn4ECRaHUJayBc0hR396ce9=s64",
      "userId": "14320948074735629011"
     },
     "user_tz": -180
    },
    "id": "KwP8-C08NOE6",
    "outputId": "aaf76335-a3de-430c-826e-968ce3e75f39"
   },
   "outputs": [
    {
     "name": "stdout",
     "output_type": "stream",
     "text": [
      "30091\n"
     ]
    }
   ],
   "source": [
    "# dataset and dataloader\n",
    "\n",
    "# image_transform = transforms.Compose([\n",
    "#     transforms.Resize(int(config['IMAGE_SIZE'] * 76 / 64)),\n",
    "#     transforms.RandomCrop(config['IMAGE_SIZE']),\n",
    "#     transforms.RandomHorizontalFlip()])\n",
    "\n",
    "image_transform = transforms.Compose([\n",
    "    transforms.Resize(int(config['IMAGE_SIZE']))\n",
    "    ])\n",
    "   \n",
    "dataset = RecipeDataset(transform=image_transform)\n",
    "\n",
    "print(len(dataset))\n",
    "assert dataset\n",
    "dataloader = torch.utils.data.DataLoader(\n",
    "    dataset, batch_size=config['TRAIN']['BATCH_SIZE'], drop_last=True,\n",
    "    shuffle=True, num_workers=config['WORKERS'])"
   ]
  },
  {
   "cell_type": "code",
   "execution_count": 14,
   "metadata": {
    "executionInfo": {
     "elapsed": 209894,
     "status": "ok",
     "timestamp": 1607083933796,
     "user": {
      "displayName": "Михаил Гуревич",
      "photoUrl": "https://lh3.googleusercontent.com/a-/AOh14GhvJvMsHb6F9BHyYOn4ECRaHUJayBc0hR396ce9=s64",
      "userId": "14320948074735629011"
     },
     "user_tz": -180
    },
    "id": "I79bOCvpNOE8"
   },
   "outputs": [],
   "source": [
    "def prepare_data(data):\n",
    "    imgs, embds, titles = data\n",
    "\n",
    "    real_imgs = []\n",
    "    for i in range(len(imgs)):\n",
    "        if config['CUDA']:\n",
    "            real_imgs.append(Variable(imgs[i]).cuda())\n",
    "        else:\n",
    "            real_imgs.append(Variable(imgs[i]))\n",
    "\n",
    "    if config['CUDA']:\n",
    "        embds = Variable(embds).cuda()\n",
    "    else:\n",
    "        embds = Variable(embds)\n",
    "\n",
    "    return [real_imgs, embds, titles]"
   ]
  },
  {
   "cell_type": "code",
   "execution_count": 15,
   "metadata": {
    "executionInfo": {
     "elapsed": 219194,
     "status": "ok",
     "timestamp": 1607083943483,
     "user": {
      "displayName": "Михаил Гуревич",
      "photoUrl": "https://lh3.googleusercontent.com/a-/AOh14GhvJvMsHb6F9BHyYOn4ECRaHUJayBc0hR396ce9=s64",
      "userId": "14320948074735629011"
     },
     "user_tz": -180
    },
    "id": "zEMflw_EkpDn"
   },
   "outputs": [],
   "source": [
    "resnet = load_resnet()\n",
    "resnet.load_state_dict(torch.load(Path(drive_path) / 'models/resnet50_abam.pth'))\n",
    "resnet.cuda()\n",
    "resnet.eval()\n",
    "\n",
    "image_transforms = transforms.Compose([\n",
    "    transforms.Resize(224),\n",
    "    transforms.Normalize([0.485, 0.456, 0.406], [0.229, 0.224, 0.225])\n",
    "])"
   ]
  },
  {
   "cell_type": "code",
   "execution_count": 16,
   "metadata": {
    "executionInfo": {
     "elapsed": 218844,
     "status": "ok",
     "timestamp": 1607083943486,
     "user": {
      "displayName": "Михаил Гуревич",
      "photoUrl": "https://lh3.googleusercontent.com/a-/AOh14GhvJvMsHb6F9BHyYOn4ECRaHUJayBc0hR396ce9=s64",
      "userId": "14320948074735629011"
     },
     "user_tz": -180
    },
    "id": "Pv0kIEAqNOE-"
   },
   "outputs": [],
   "source": [
    "def train(dataloader, netG, netD, optimizerG, optimizerD, state_epoch, batch_size, device):\n",
    "    fake_images = Path(f'{drive_path}/fake_images')\n",
    "    fake_images.mkdir(exist_ok=True)\n",
    "    fake_images = fake_images / f'{config[\"MODEL_NAME\"]}'\n",
    "    fake_images.mkdir(exist_ok=True)\n",
    "    (fake_images / 'tmp').mkdir(exist_ok=True)\n",
    "\n",
    "    for epoch in range(state_epoch + 1, config['TRAIN']['MAX_EPOCH'] + 1):\n",
    "        for step, data in enumerate(dataloader, 0):\n",
    "    \n",
    "            imags, sent_emb, titles = prepare_data(data)\n",
    "#             hidden = text_encoder.init_hidden(batch_size)\n",
    "#             # words_embs: batch_size x nef x seq_len\n",
    "#             # sent_emb: batch_size x nef\n",
    "#             words_embs, sent_emb = text_encoder(captions, cap_lens, hidden)\n",
    "#             words_embs, sent_emb = words_embs.detach(), sent_emb.detach()\n",
    "\n",
    "            imgs=imags[0].to(device)\n",
    "            real_features = netD(imgs)\n",
    "            # print(imgs.shape)\n",
    "            # print(real_features.shape)\n",
    "            # print(sent_emb.shape)\n",
    "            output = netD.COND_DNET(real_features, sent_emb)\n",
    "            errD_real = torch.nn.ReLU()(1.0 - output).mean()\n",
    "\n",
    "\n",
    "            output = netD.COND_DNET(real_features[:(batch_size - 1)], sent_emb[1:batch_size])\n",
    "            errD_mismatch = torch.nn.ReLU()(1.0 + output).mean()\n",
    "\n",
    "            # synthesize fake images\n",
    "            noise = torch.randn(batch_size, 100)\n",
    "            noise=noise.to(device)\n",
    "            fake = netG(noise,sent_emb)  \n",
    "            \n",
    "            # G does not need update with D\n",
    "            fake_features = netD(fake.detach()) \n",
    "\n",
    "            errD_fake = netD.COND_DNET(fake_features,sent_emb)\n",
    "            errD_fake = torch.nn.ReLU()(1.0 + errD_fake).mean()          \n",
    "\n",
    "            errD = errD_real + (errD_fake + errD_mismatch)/2.0\n",
    "            optimizerD.zero_grad()\n",
    "            optimizerG.zero_grad()\n",
    "            errD.backward()\n",
    "            optimizerD.step()\n",
    "\n",
    "            #MA-GP\n",
    "            interpolated = (imgs.data).requires_grad_(True)\n",
    "            sent_inter = (sent_emb.data).requires_grad_(True)\n",
    "            features = netD(interpolated)\n",
    "            out = netD.COND_DNET(features,sent_inter)\n",
    "            grads = torch.autograd.grad(outputs=out,\n",
    "                                    inputs=(interpolated,sent_inter),\n",
    "                                    grad_outputs=torch.ones(out.size()).cuda(),\n",
    "                                    retain_graph=True,\n",
    "                                    create_graph=True,\n",
    "                                    only_inputs=True)\n",
    "            grad0 = grads[0].view(grads[0].size(0), -1)\n",
    "            grad1 = grads[1].view(grads[1].size(0), -1)\n",
    "            grad = torch.cat((grad0,grad1),dim=1)                        \n",
    "            grad_l2norm = torch.sqrt(torch.sum(grad ** 2, dim=1))\n",
    "            d_loss_gp = torch.mean((grad_l2norm) ** 6)\n",
    "            d_loss = 2.0 * d_loss_gp\n",
    "            optimizerD.zero_grad()\n",
    "            optimizerG.zero_grad()\n",
    "            d_loss.backward()\n",
    "            optimizerD.step()\n",
    "            \n",
    "            # update G\n",
    "            features = netD(fake)\n",
    "            output = netD.COND_DNET(features,sent_emb)\n",
    "            \n",
    "            errG = -output.mean()\n",
    "            \n",
    "            # Cycle loss\n",
    "            if config['TRAIN']['CYCLE_LOSS_COEFF'] > 0:\n",
    "                resized_fake = image_transforms(fake)\n",
    "                fake_feats = resnet(resized_fake)\n",
    "                err_cycle = F.cosine_similarity(fake_feats, sent_emb).mean()\n",
    "                errG -= err_cycle * config['TRAIN']['CYCLE_LOSS_COEFF']\n",
    "            \n",
    "            optimizerG.zero_grad()\n",
    "            optimizerD.zero_grad()\n",
    "            errG.backward()\n",
    "            optimizerG.step()\n",
    "\n",
    "            if step % 200 == 0:\n",
    "                print('[%d/%d][%d/%d] Loss_D: %.3f Loss_G %.3f Cycle_loss: %.3f'\n",
    "                    % (epoch, config['TRAIN']['MAX_EPOCH'], step, len(dataloader), errD.item(), errG.item(), err_cycle.item()))\n",
    "\n",
    "                save_to_pdf.save_pdf_images(fake.data, titles, str(fake_images), f'{config[\"MODEL_NAME\"]}_{epoch}_{step}')\n",
    "\n",
    "        if epoch % 1 == 0:\n",
    "            path_netG = f'{drive_path}/models/{config[\"MODEL_NAME\"]}_netG_{epoch}.pth' \n",
    "            path_netD = f'{drive_path}/models/{config[\"MODEL_NAME\"]}_netD_{epoch}.pth' \n",
    "            torch.save(netG.state_dict(), path_netG)\n",
    "            torch.save(netD.state_dict(), path_netD)      "
   ]
  },
  {
   "cell_type": "code",
   "execution_count": 17,
   "metadata": {
    "executionInfo": {
     "elapsed": 218897,
     "status": "ok",
     "timestamp": 1607083943939,
     "user": {
      "displayName": "Михаил Гуревич",
      "photoUrl": "https://lh3.googleusercontent.com/a-/AOh14GhvJvMsHb6F9BHyYOn4ECRaHUJayBc0hR396ce9=s64",
      "userId": "14320948074735629011"
     },
     "user_tz": -180
    },
    "id": "40vbxeneNOFA"
   },
   "outputs": [],
   "source": [
    "netG = NetG(ngf=config['TRAIN']['NF'], nz=100)\n",
    "netD = NetD(ndf=config['TRAIN']['NF'])\n",
    "state_epoch=0\n",
    "\n",
    "\n",
    "# load_epoch = 20\n",
    "# path_netG = f'{drive_path}/models/{config[\"MODEL_NAME\"]}_netG_{load_epoch}.pth' \n",
    "# path_netD = f'{drive_path}/models/{config[\"MODEL_NAME\"]}_netD_{load_epoch}.pth' \n",
    "# netG.load_state_dict(torch.load(path_netG))\n",
    "# netD.load_state_dict(torch.load(path_netD))\n",
    "# state_epoch = load_epoch\n",
    "\n",
    "\n",
    "netG.to(device)\n",
    "netD.to(device)\n",
    "optimizerG = torch.optim.Adam(netG.parameters(), lr=0.0001, betas=(0.0, 0.9))\n",
    "optimizerD = torch.optim.Adam(netD.parameters(), lr=0.0004, betas=(0.0, 0.9))"
   ]
  },
  {
   "cell_type": "code",
   "execution_count": null,
   "metadata": {
    "colab": {
     "base_uri": "https://localhost:8080/"
    },
    "id": "5NILpHmENOFC",
    "outputId": "94ca1d41-e0ff-482a-ac51-070885e36481"
   },
   "outputs": [
    {
     "name": "stdout",
     "output_type": "stream",
     "text": [
      "[1/512][0/940] Loss_D: 1.996 Loss_G -0.390 Cycle_loss: -0.004\n",
      "[1/512][200/940] Loss_D: 1.923 Loss_G 0.850 Cycle_loss: 0.214\n",
      "[1/512][400/940] Loss_D: 1.444 Loss_G 1.378 Cycle_loss: 0.389\n",
      "[1/512][600/940] Loss_D: 1.391 Loss_G 2.072 Cycle_loss: 0.045\n",
      "[1/512][800/940] Loss_D: 1.731 Loss_G 0.732 Cycle_loss: 0.036\n",
      "[2/512][0/940] Loss_D: 1.509 Loss_G 1.563 Cycle_loss: 0.205\n",
      "[2/512][200/940] Loss_D: 1.515 Loss_G 1.325 Cycle_loss: 0.113\n",
      "[2/512][400/940] Loss_D: 1.977 Loss_G 0.904 Cycle_loss: 0.406\n",
      "[2/512][600/940] Loss_D: 1.793 Loss_G 1.815 Cycle_loss: 0.313\n",
      "[2/512][800/940] Loss_D: 1.763 Loss_G 1.196 Cycle_loss: 0.260\n",
      "[3/512][0/940] Loss_D: 1.699 Loss_G 1.682 Cycle_loss: -0.028\n",
      "[3/512][200/940] Loss_D: 1.968 Loss_G 0.994 Cycle_loss: -0.054\n",
      "[3/512][400/940] Loss_D: 1.633 Loss_G 1.290 Cycle_loss: 0.209\n",
      "[3/512][600/940] Loss_D: 1.734 Loss_G 1.230 Cycle_loss: 0.067\n",
      "[3/512][800/940] Loss_D: 1.809 Loss_G -0.175 Cycle_loss: 0.238\n",
      "[4/512][0/940] Loss_D: 1.651 Loss_G 0.907 Cycle_loss: 0.229\n",
      "[4/512][200/940] Loss_D: 1.590 Loss_G 0.252 Cycle_loss: 0.078\n",
      "[4/512][400/940] Loss_D: 1.575 Loss_G 0.700 Cycle_loss: 0.053\n",
      "[4/512][600/940] Loss_D: 1.698 Loss_G 0.320 Cycle_loss: 0.309\n",
      "[4/512][800/940] Loss_D: 1.806 Loss_G 0.384 Cycle_loss: 0.165\n",
      "[5/512][0/940] Loss_D: 1.711 Loss_G 1.764 Cycle_loss: 0.127\n",
      "[5/512][200/940] Loss_D: 1.560 Loss_G 1.097 Cycle_loss: 0.139\n",
      "[5/512][400/940] Loss_D: 1.793 Loss_G -0.077 Cycle_loss: 0.167\n",
      "[5/512][600/940] Loss_D: 1.616 Loss_G 0.380 Cycle_loss: 0.041\n",
      "[5/512][800/940] Loss_D: 1.760 Loss_G 1.059 Cycle_loss: 0.248\n",
      "[6/512][0/940] Loss_D: 1.824 Loss_G 1.218 Cycle_loss: 0.214\n",
      "[6/512][200/940] Loss_D: 1.530 Loss_G 1.679 Cycle_loss: -0.013\n",
      "[6/512][400/940] Loss_D: 1.602 Loss_G 0.535 Cycle_loss: 0.364\n",
      "[6/512][600/940] Loss_D: 1.852 Loss_G -0.031 Cycle_loss: 0.343\n",
      "[6/512][800/940] Loss_D: 1.758 Loss_G -0.439 Cycle_loss: 0.007\n",
      "[7/512][0/940] Loss_D: 1.704 Loss_G 0.778 Cycle_loss: 0.188\n",
      "[7/512][200/940] Loss_D: 1.614 Loss_G 0.930 Cycle_loss: -0.037\n",
      "[7/512][400/940] Loss_D: 1.519 Loss_G 0.489 Cycle_loss: 0.190\n",
      "[7/512][600/940] Loss_D: 1.640 Loss_G 1.002 Cycle_loss: 0.225\n",
      "[7/512][800/940] Loss_D: 1.850 Loss_G 0.798 Cycle_loss: 0.228\n",
      "[8/512][0/940] Loss_D: 1.807 Loss_G 0.484 Cycle_loss: 0.128\n",
      "[8/512][200/940] Loss_D: 1.706 Loss_G 1.384 Cycle_loss: 0.182\n",
      "[8/512][400/940] Loss_D: 1.827 Loss_G -0.077 Cycle_loss: 0.433\n",
      "[8/512][600/940] Loss_D: 1.464 Loss_G 1.475 Cycle_loss: 0.254\n",
      "[8/512][800/940] Loss_D: 1.583 Loss_G -0.226 Cycle_loss: 0.391\n",
      "[9/512][0/940] Loss_D: 1.609 Loss_G 0.992 Cycle_loss: 0.208\n",
      "[9/512][200/940] Loss_D: 1.766 Loss_G 0.764 Cycle_loss: 0.249\n",
      "[9/512][400/940] Loss_D: 1.757 Loss_G 0.533 Cycle_loss: 0.029\n"
     ]
    }
   ],
   "source": [
    "train(dataloader, netG, netD, optimizerG, optimizerD, state_epoch, config['TRAIN']['BATCH_SIZE'], device)"
   ]
  },
  {
   "cell_type": "code",
   "execution_count": null,
   "metadata": {
    "id": "E_2_mal2rxRw"
   },
   "outputs": [],
   "source": []
  },
  {
   "cell_type": "code",
   "execution_count": null,
   "metadata": {
    "id": "w2CjVIWZaF0t"
   },
   "outputs": [],
   "source": [
    "dataset[1][1][0].shape"
   ]
  },
  {
   "cell_type": "code",
   "execution_count": null,
   "metadata": {
    "id": "Yx4w9KhOnxMu"
   },
   "outputs": [],
   "source": []
  }
 ],
 "metadata": {
  "accelerator": "GPU",
  "colab": {
   "collapsed_sections": [],
   "name": "DF_GAN_lstm_cycle_loss.ipynb",
   "provenance": []
  },
  "kernelspec": {
   "display_name": "Python 3",
   "language": "python",
   "name": "python3"
  },
  "language_info": {
   "codemirror_mode": {
    "name": "ipython",
    "version": 3
   },
   "file_extension": ".py",
   "mimetype": "text/x-python",
   "name": "python",
   "nbconvert_exporter": "python",
   "pygments_lexer": "ipython3",
   "version": "3.8.6"
  }
 },
 "nbformat": 4,
 "nbformat_minor": 1
}
