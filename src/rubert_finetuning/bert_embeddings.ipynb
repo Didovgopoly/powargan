{
 "cells": [
  {
   "cell_type": "code",
   "execution_count": 30,
   "metadata": {},
   "outputs": [],
   "source": [
    "import os\n",
    "import random\n",
    "from glob import glob\n",
    "\n",
    "from transformers import BertTokenizer, BertModel\n",
    "import torch\n",
    "from tqdm import tqdm\n",
    "\n",
    "import pandas as pd\n",
    "import numpy as np\n"
   ]
  },
  {
   "cell_type": "code",
   "execution_count": 2,
   "metadata": {},
   "outputs": [
    {
     "data": {
      "text/html": [
       "<div>\n",
       "<style scoped>\n",
       "    .dataframe tbody tr th:only-of-type {\n",
       "        vertical-align: middle;\n",
       "    }\n",
       "\n",
       "    .dataframe tbody tr th {\n",
       "        vertical-align: top;\n",
       "    }\n",
       "\n",
       "    .dataframe thead th {\n",
       "        text-align: right;\n",
       "    }\n",
       "</style>\n",
       "<table border=\"1\" class=\"dataframe\">\n",
       "  <thead>\n",
       "    <tr style=\"text-align: right;\">\n",
       "      <th></th>\n",
       "      <th>id</th>\n",
       "      <th>url</th>\n",
       "      <th>title</th>\n",
       "      <th>ingredients</th>\n",
       "      <th>steps</th>\n",
       "      <th>images</th>\n",
       "    </tr>\n",
       "  </thead>\n",
       "  <tbody>\n",
       "    <tr>\n",
       "      <th>0</th>\n",
       "      <td>158659</td>\n",
       "      <td>https://www.russianfood.com/recipes/recipe.php...</td>\n",
       "      <td>Запеканка из куриного филе с грибами и беконом...</td>\n",
       "      <td>Курица (любая часть) - 600 г|Бекон - 100 г|Сме...</td>\n",
       "      <td>Подготовьте все необходимые ингредиенты. Сыр м...</td>\n",
       "      <td>images/158659_0.jpg|images/158659_1.jpg|images...</td>\n",
       "    </tr>\n",
       "    <tr>\n",
       "      <th>1</th>\n",
       "      <td>146718</td>\n",
       "      <td>https://www.russianfood.com/recipes/recipe.php...</td>\n",
       "      <td>Сырные лепешки с картошкой (на сухой сковороде)</td>\n",
       "      <td>Для теста:|Сыр (твердый или полутвердый) - 250...</td>\n",
       "      <td>Как приготовить лепешки из сырного теста, с ка...</td>\n",
       "      <td>images/146718_0.jpg|images/146718_1.jpg|images...</td>\n",
       "    </tr>\n",
       "    <tr>\n",
       "      <th>2</th>\n",
       "      <td>134548</td>\n",
       "      <td>https://www.russianfood.com/recipes/recipe.php...</td>\n",
       "      <td>Торт без выпечки, с творогом и черносливом</td>\n",
       "      <td>Печенье песочное (сахарное) – 600 г|Творог – 3...</td>\n",
       "      <td>Как приготовить торт без выпечки, с творогом и...</td>\n",
       "      <td>images/134548_0.jpg|images/134548_1.jpg|images...</td>\n",
       "    </tr>\n",
       "    <tr>\n",
       "      <th>3</th>\n",
       "      <td>151796</td>\n",
       "      <td>https://www.russianfood.com/recipes/recipe.php...</td>\n",
       "      <td>Сырные булочки с помидорами и зелёным луком</td>\n",
       "      <td>Для теста:|Сахар - 1 ст. ложка|Яйцо - 1 шт.|ил...</td>\n",
       "      <td>Для теста будем использовать прессованные дрож...</td>\n",
       "      <td>images/151796_0.jpg|images/151796_1.jpg|images...</td>\n",
       "    </tr>\n",
       "    <tr>\n",
       "      <th>4</th>\n",
       "      <td>114586</td>\n",
       "      <td>https://www.russianfood.com/recipes/recipe.php...</td>\n",
       "      <td>Курица в сливках с черносливом</td>\n",
       "      <td>Куриные голени - 4 шт.|Лук репчатый (крупный) ...</td>\n",
       "      <td>Подготовьте все необходимые ингредиенты. Идеал...</td>\n",
       "      <td>images/114586_0.jpg|images/114586_1.jpg|images...</td>\n",
       "    </tr>\n",
       "  </tbody>\n",
       "</table>\n",
       "</div>"
      ],
      "text/plain": [
       "       id                                                url  \\\n",
       "0  158659  https://www.russianfood.com/recipes/recipe.php...   \n",
       "1  146718  https://www.russianfood.com/recipes/recipe.php...   \n",
       "2  134548  https://www.russianfood.com/recipes/recipe.php...   \n",
       "3  151796  https://www.russianfood.com/recipes/recipe.php...   \n",
       "4  114586  https://www.russianfood.com/recipes/recipe.php...   \n",
       "\n",
       "                                               title  \\\n",
       "0  Запеканка из куриного филе с грибами и беконом...   \n",
       "1    Сырные лепешки с картошкой (на сухой сковороде)   \n",
       "2         Торт без выпечки, с творогом и черносливом   \n",
       "3        Сырные булочки с помидорами и зелёным луком   \n",
       "4                     Курица в сливках с черносливом   \n",
       "\n",
       "                                         ingredients  \\\n",
       "0  Курица (любая часть) - 600 г|Бекон - 100 г|Сме...   \n",
       "1  Для теста:|Сыр (твердый или полутвердый) - 250...   \n",
       "2  Печенье песочное (сахарное) – 600 г|Творог – 3...   \n",
       "3  Для теста:|Сахар - 1 ст. ложка|Яйцо - 1 шт.|ил...   \n",
       "4  Куриные голени - 4 шт.|Лук репчатый (крупный) ...   \n",
       "\n",
       "                                               steps  \\\n",
       "0  Подготовьте все необходимые ингредиенты. Сыр м...   \n",
       "1  Как приготовить лепешки из сырного теста, с ка...   \n",
       "2  Как приготовить торт без выпечки, с творогом и...   \n",
       "3  Для теста будем использовать прессованные дрож...   \n",
       "4  Подготовьте все необходимые ингредиенты. Идеал...   \n",
       "\n",
       "                                              images  \n",
       "0  images/158659_0.jpg|images/158659_1.jpg|images...  \n",
       "1  images/146718_0.jpg|images/146718_1.jpg|images...  \n",
       "2  images/134548_0.jpg|images/134548_1.jpg|images...  \n",
       "3  images/151796_0.jpg|images/151796_1.jpg|images...  \n",
       "4  images/114586_0.jpg|images/114586_1.jpg|images...  "
      ]
     },
     "execution_count": 2,
     "metadata": {},
     "output_type": "execute_result"
    }
   ],
   "source": [
    "df = pd.read_csv('./../../../russianfood/russianfood_filtred.csv')\n",
    "df.head(5)"
   ]
  },
  {
   "cell_type": "code",
   "execution_count": 3,
   "metadata": {},
   "outputs": [
    {
     "data": {
      "application/vnd.jupyter.widget-view+json": {
       "model_id": "cce0ab70d6aa4930b8208246e442ccf0",
       "version_major": 2,
       "version_minor": 0
      },
      "text/plain": [
       "HBox(children=(HTML(value='Downloading'), FloatProgress(value=0.0, max=1649718.0), HTML(value='')))"
      ]
     },
     "metadata": {},
     "output_type": "display_data"
    },
    {
     "name": "stdout",
     "output_type": "stream",
     "text": [
      "\n"
     ]
    },
    {
     "data": {
      "application/vnd.jupyter.widget-view+json": {
       "model_id": "1e3a5e4e156548a3ae3dd791e5359578",
       "version_major": 2,
       "version_minor": 0
      },
      "text/plain": [
       "HBox(children=(HTML(value='Downloading'), FloatProgress(value=0.0, max=112.0), HTML(value='')))"
      ]
     },
     "metadata": {},
     "output_type": "display_data"
    },
    {
     "name": "stdout",
     "output_type": "stream",
     "text": [
      "\n"
     ]
    },
    {
     "data": {
      "application/vnd.jupyter.widget-view+json": {
       "model_id": "251e3e97de68411bb18f1f85541a81f2",
       "version_major": 2,
       "version_minor": 0
      },
      "text/plain": [
       "HBox(children=(HTML(value='Downloading'), FloatProgress(value=0.0, max=2.0), HTML(value='')))"
      ]
     },
     "metadata": {},
     "output_type": "display_data"
    },
    {
     "name": "stdout",
     "output_type": "stream",
     "text": [
      "\n"
     ]
    },
    {
     "name": "stderr",
     "output_type": "stream",
     "text": [
      "Some weights of BertModel were not initialized from the model checkpoint at ./bert_tuned and are newly initialized: ['bert.pooler.dense.weight', 'bert.pooler.dense.bias']\n",
      "You should probably TRAIN this model on a down-stream task to be able to use it for predictions and inference.\n"
     ]
    }
   ],
   "source": [
    "tokenizer = BertTokenizer.from_pretrained(\"DeepPavlov/rubert-base-cased\")\n",
    "rubert = BertModel.from_pretrained(f'./bert_tuned')\n",
    "rubert.eval();"
   ]
  },
  {
   "cell_type": "code",
   "execution_count": 15,
   "metadata": {},
   "outputs": [
    {
     "name": "stderr",
     "output_type": "stream",
     "text": [
      "100%|██████████| 13830/13830 [3:35:23<00:00,  1.07it/s]  \n"
     ]
    }
   ],
   "source": [
    "emb_data = []\n",
    "for index, row in tqdm(df.iterrows(), total=df.shape[0]):\n",
    "\n",
    "    recipe_id = row['id']\n",
    "    # title_text = row['title'] \n",
    "    title_in = tokenizer(row['title'], return_tensors=\"pt\", max_length=512)\n",
    "    ingredients_in = tokenizer(row['ingredients'].replace('|', ' '), return_tensors=\"pt\", max_length=512)\n",
    "    steps_in = tokenizer(row['steps'].replace('|', ' '), return_tensors=\"pt\", max_length=512)\n",
    "\n",
    "    title = rubert(**title_in)[0][:, 0, :].cpu().detach().numpy()\n",
    "    ingredients = rubert(**ingredients_in)[0][:, 0, :].cpu().detach().numpy()\n",
    "    steps = rubert(**steps_in)[0][:, 0, :].cpu().detach().numpy()\n",
    "    \n",
    "    np.savez_compressed(f'embeddings/russianfood/title/{recipe_id}.npz', title)\n",
    "    np.savez_compressed(f'embeddings/russianfood/ingredients/{recipe_id}.npz', ingredients)\n",
    "    np.savez_compressed(f'embeddings/russianfood/steps/{recipe_id}.npz', steps)"
   ]
  },
  {
   "cell_type": "code",
   "execution_count": 22,
   "metadata": {},
   "outputs": [
    {
     "data": {
      "text/html": [
       "<div>\n",
       "<style scoped>\n",
       "    .dataframe tbody tr th:only-of-type {\n",
       "        vertical-align: middle;\n",
       "    }\n",
       "\n",
       "    .dataframe tbody tr th {\n",
       "        vertical-align: top;\n",
       "    }\n",
       "\n",
       "    .dataframe thead th {\n",
       "        text-align: right;\n",
       "    }\n",
       "</style>\n",
       "<table border=\"1\" class=\"dataframe\">\n",
       "  <thead>\n",
       "    <tr style=\"text-align: right;\">\n",
       "      <th></th>\n",
       "      <th>id</th>\n",
       "      <th>url</th>\n",
       "      <th>title</th>\n",
       "      <th>ingredients</th>\n",
       "      <th>descr</th>\n",
       "      <th>steps</th>\n",
       "      <th>images</th>\n",
       "      <th>images_step</th>\n",
       "    </tr>\n",
       "  </thead>\n",
       "  <tbody>\n",
       "    <tr>\n",
       "      <th>0</th>\n",
       "      <td>24419</td>\n",
       "      <td>https://eda.ru/recepty/vypechka-deserty/sloeni...</td>\n",
       "      <td>Слоеные булки</td>\n",
       "      <td>Вода:350 мл|Пшеничная мука:500 г|Соль:по вкусу...</td>\n",
       "      <td>NaN</td>\n",
       "      <td>1. Вотрите дрожжи в муку до образования одноро...</td>\n",
       "      <td>images/24419_1.jpg</td>\n",
       "      <td>NaN</td>\n",
       "    </tr>\n",
       "    <tr>\n",
       "      <th>1</th>\n",
       "      <td>24410</td>\n",
       "      <td>https://eda.ru/recepty/vypechka-deserty/italja...</td>\n",
       "      <td>Итальянское персиковое мороженое (Gelato)</td>\n",
       "      <td>Молоко:6 стаканов|Сахар:1 стакан|Яичный желток...</td>\n",
       "      <td>NaN</td>\n",
       "      <td>1. В блендере измельчите очищенные от кожуры п...</td>\n",
       "      <td>images/24410_1.jpg</td>\n",
       "      <td>NaN</td>\n",
       "    </tr>\n",
       "    <tr>\n",
       "      <th>3</th>\n",
       "      <td>24411</td>\n",
       "      <td>https://eda.ru/recepty/vypechka-deserty/italja...</td>\n",
       "      <td>Итальянское мороженое с лимонной цедрой (Gelato)</td>\n",
       "      <td>Молоко:6 стаканов|Сахар:1 стакан|Яичный желток...</td>\n",
       "      <td>NaN</td>\n",
       "      <td>1. В большой кастрюле смешайте слегка взбитые ...</td>\n",
       "      <td>images/24411_1.jpg</td>\n",
       "      <td>NaN</td>\n",
       "    </tr>\n",
       "    <tr>\n",
       "      <th>4</th>\n",
       "      <td>24414</td>\n",
       "      <td>https://eda.ru/recepty/salaty/zakuska-iz-kuric...</td>\n",
       "      <td>Закуска из курицы в листьях салата</td>\n",
       "      <td>Куриная грудка:1 штука|Оливковое масло:3 столо...</td>\n",
       "      <td>NaN</td>\n",
       "      <td>1. Смешайте ингредиенты для соуса: масло, соев...</td>\n",
       "      <td>images/24414_1.jpg</td>\n",
       "      <td>NaN</td>\n",
       "    </tr>\n",
       "    <tr>\n",
       "      <th>5</th>\n",
       "      <td>24413</td>\n",
       "      <td>https://eda.ru/recepty/zakuski/marinovannie-ku...</td>\n",
       "      <td>Маринованные куриные ломтики</td>\n",
       "      <td>Лайм:1 штука|Чеснок:1 зубчик|Соевый соус:2 сто...</td>\n",
       "      <td>NaN</td>\n",
       "      <td>1. Приготовьте маринад из сока и цедры лайма, ...</td>\n",
       "      <td>images/24413_1.jpg</td>\n",
       "      <td>NaN</td>\n",
       "    </tr>\n",
       "  </tbody>\n",
       "</table>\n",
       "</div>"
      ],
      "text/plain": [
       "      id                                                url  \\\n",
       "0  24419  https://eda.ru/recepty/vypechka-deserty/sloeni...   \n",
       "1  24410  https://eda.ru/recepty/vypechka-deserty/italja...   \n",
       "3  24411  https://eda.ru/recepty/vypechka-deserty/italja...   \n",
       "4  24414  https://eda.ru/recepty/salaty/zakuska-iz-kuric...   \n",
       "5  24413  https://eda.ru/recepty/zakuski/marinovannie-ku...   \n",
       "\n",
       "                                              title  \\\n",
       "0                                     Слоеные булки   \n",
       "1         Итальянское персиковое мороженое (Gelato)   \n",
       "3  Итальянское мороженое с лимонной цедрой (Gelato)   \n",
       "4                Закуска из курицы в листьях салата   \n",
       "5                      Маринованные куриные ломтики   \n",
       "\n",
       "                                         ingredients descr  \\\n",
       "0  Вода:350 мл|Пшеничная мука:500 г|Соль:по вкусу...   NaN   \n",
       "1  Молоко:6 стаканов|Сахар:1 стакан|Яичный желток...   NaN   \n",
       "3  Молоко:6 стаканов|Сахар:1 стакан|Яичный желток...   NaN   \n",
       "4  Куриная грудка:1 штука|Оливковое масло:3 столо...   NaN   \n",
       "5  Лайм:1 штука|Чеснок:1 зубчик|Соевый соус:2 сто...   NaN   \n",
       "\n",
       "                                               steps              images  \\\n",
       "0  1. Вотрите дрожжи в муку до образования одноро...  images/24419_1.jpg   \n",
       "1  1. В блендере измельчите очищенные от кожуры п...  images/24410_1.jpg   \n",
       "3  1. В большой кастрюле смешайте слегка взбитые ...  images/24411_1.jpg   \n",
       "4  1. Смешайте ингредиенты для соуса: масло, соев...  images/24414_1.jpg   \n",
       "5  1. Приготовьте маринад из сока и цедры лайма, ...  images/24413_1.jpg   \n",
       "\n",
       "  images_step  \n",
       "0         NaN  \n",
       "1         NaN  \n",
       "3         NaN  \n",
       "4         NaN  \n",
       "5         NaN  "
      ]
     },
     "execution_count": 22,
     "metadata": {},
     "output_type": "execute_result"
    }
   ],
   "source": [
    "df_eda = pd.read_csv('./../../../eda_ru_dataset/eda_ru.csv', sep=';')\n",
    "df_eda = df_eda[\n",
    "    (df_eda['images'].notna()) & \n",
    "    (df_eda['title'].notna()) & \n",
    "    (df_eda['ingredients'].notna()) & \n",
    "    (df_eda['steps'].notna())\n",
    "]\n",
    "df_eda.head(5)"
   ]
  },
  {
   "cell_type": "code",
   "execution_count": 28,
   "metadata": {},
   "outputs": [
    {
     "name": "stderr",
     "output_type": "stream",
     "text": [
      "100%|██████████| 15391/15391 [3:11:43<00:00,  1.34it/s]  \n"
     ]
    }
   ],
   "source": [
    "emb_data = []\n",
    "for index, row in tqdm(df_eda[14700:].iterrows(), total=df_eda[14700:].shape[0]):\n",
    "\n",
    "    recipe_id = row['id']\n",
    "    # title_text = row['title'] \n",
    "    title_in = tokenizer(row['title'], return_tensors=\"pt\", max_length=512)\n",
    "    ingredients_in = tokenizer(row['ingredients'].replace('|', ' '), return_tensors=\"pt\", max_length=512)\n",
    "    steps_in = tokenizer(row['steps'].replace('|', ' '), return_tensors=\"pt\", max_length=512)\n",
    "\n",
    "    title = rubert(**title_in)[0][:, 0, :].cpu().detach().numpy()\n",
    "    ingredients = rubert(**ingredients_in)[0][:, 0, :].cpu().detach().numpy()\n",
    "    steps = rubert(**steps_in)[0][:, 0, :].cpu().detach().numpy()\n",
    "    \n",
    "    np.savez_compressed(f'embeddings/eda_ru/title/{recipe_id}.npz', title)\n",
    "    np.savez_compressed(f'embeddings/eda_ru/ingredients/{recipe_id}.npz', ingredients)\n",
    "    np.savez_compressed(f'embeddings/eda_ru/steps/{recipe_id}.npz', steps)"
   ]
  },
  {
   "cell_type": "code",
   "execution_count": 29,
   "metadata": {},
   "outputs": [],
   "source": [
    "df_eda.to_csv('./../../../eda_ru_dataset/eda_ru_filtered.csv', index=False)"
   ]
  },
  {
   "cell_type": "code",
   "execution_count": null,
   "metadata": {},
   "outputs": [],
   "source": []
  },
  {
   "cell_type": "code",
   "execution_count": 60,
   "metadata": {},
   "outputs": [],
   "source": [
    "a1 = np.load('./embeddings/eda_ru/title/104177.npz')['arr_0']\n",
    "a2 = np.load('./embeddings/eda_ru/ingredients/104177.npz')['arr_0']\n",
    "a3 = np.load('./embeddings/eda_ru/steps/104177.npz')['arr_0']"
   ]
  },
  {
   "cell_type": "code",
   "execution_count": 61,
   "metadata": {},
   "outputs": [
    {
     "data": {
      "text/plain": [
       "(1, 2304)"
      ]
     },
     "execution_count": 61,
     "metadata": {},
     "output_type": "execute_result"
    }
   ],
   "source": [
    "np.concatenate([a1, a2, a3], axis=1).shape"
   ]
  },
  {
   "cell_type": "code",
   "execution_count": null,
   "metadata": {},
   "outputs": [],
   "source": []
  }
 ],
 "metadata": {
  "kernelspec": {
   "display_name": "Python 3",
   "language": "python",
   "name": "python3"
  },
  "language_info": {
   "codemirror_mode": {
    "name": "ipython",
    "version": 3
   },
   "file_extension": ".py",
   "mimetype": "text/x-python",
   "name": "python",
   "nbconvert_exporter": "python",
   "pygments_lexer": "ipython3",
   "version": "3.8.5"
  }
 },
 "nbformat": 4,
 "nbformat_minor": 4
}
